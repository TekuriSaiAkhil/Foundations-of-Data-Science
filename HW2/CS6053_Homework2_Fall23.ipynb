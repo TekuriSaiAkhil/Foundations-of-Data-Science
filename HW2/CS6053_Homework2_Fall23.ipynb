{
 "cells": [
  {
   "cell_type": "markdown",
   "metadata": {
    "id": "1_FqNipzW5lv"
   },
   "source": [
    "# **Foundations of Data Science Fall 2022 - Homework 2 (30 points)**\n",
    "\n",
    "### Student Name: Tekuri Sai Akhil\n",
    "### Student Net Id: st5050\n",
    "\n",
    "---"
   ]
  },
  {
   "cell_type": "markdown",
   "metadata": {
    "id": "XRYNUuouW5lz"
   },
   "source": [
    "### **Part 1: Preparing a Training Set and Training a Decision Tree (10 Points)**\n",
    "\n",
    "---\n",
    "\n",
    "\n"
   ]
  },
  {
   "cell_type": "markdown",
   "metadata": {
    "id": "JQwmLw2bNlc9"
   },
   "source": [
    "This is a hands-on task where we build a predictive model using Decision Trees discussed in class. For this part, we will be using the data in `cell2cell_data.csv` (you can find this on NYU Brightspace).\n",
    "\n",
    "These historical data consist of 39,859 customers: 19,901 customers that churned (i.e., left the company) and 19,958 that did not churn (see the `\"churndep\"` variable). Here are the data set's 11 possible predictor variables for churning behavior:\n",
    "\n",
    "```\n",
    "Pos.  Var. Name  Var. Description\n",
    "----- ---------- --------------------------------------------------------------\n",
    "1     revenue    Mean monthly revenue in dollars\n",
    "2     outcalls   Mean number of outbound voice calls\n",
    "3     incalls    Mean number of inbound voice calls\n",
    "4     months     Months in Service\n",
    "5     eqpdays    Number of days the customer has had his/her current equipment\n",
    "6     webcap     Handset is web capable\n",
    "7     marryyes   Married (1=Yes; 0=No)\n",
    "8     travel     Has traveled to non-US country (1=Yes; 0=No)\n",
    "9     pcown      Owns a personal computer (1=Yes; 0=No)\n",
    "10    creditcd   Possesses a credit card (1=Yes; 0=No)\n",
    "11    retcalls   Number of calls previously made to retention team\n",
    "```\n",
    "\n",
    "The 12th column, the dependent variable `\"churndep\"`, equals 1 if the customer churned, and 0 otherwise."
   ]
  },
  {
   "cell_type": "code",
   "execution_count": 1,
   "metadata": {
    "id": "fW7Wkd0EM9uF"
   },
   "outputs": [],
   "source": [
    "import warnings\n",
    "warnings.filterwarnings('ignore')\n",
    "warnings.filterwarnings(action='once')\n",
    "\n",
    "import pandas as pd\n",
    "import numpy as np\n",
    "from sklearn.tree import DecisionTreeClassifier\n",
    "import matplotlib.pyplot as plt\n",
    "import sklearn.model_selection as model_selection\n",
    "import xgboost as xgb\n",
    "from sklearn.model_selection import cross_val_score\n",
    "from sklearn.metrics import accuracy_score"
   ]
  },
  {
   "cell_type": "markdown",
   "metadata": {
    "id": "eOZYR7zgW5l0"
   },
   "source": [
    "1\\. Load the data and prepare it for modeling. Note that the features are already processed for you, so the only thing needed here is split the data into training and testing. Use pandas to create two data frames: train_df and test_df, where train_df has 80% of the data chosen uniformly at random without replacement (test_df should have the other 20%). Also, make sure to write your own code to do the splits. You may use any random() function numpy but do not use the data splitting functions from Sklearn.<br><br>\n",
    "\n",
    "(2 Points)"
   ]
  },
  {
   "cell_type": "code",
   "execution_count": 2,
   "metadata": {
    "id": "kdsRU6YtW5l0"
   },
   "outputs": [
    {
     "name": "stdout",
     "output_type": "stream",
     "text": [
      "Complete dataframe shape: (39833, 12)\n",
      "Train dataframe shape: (31866, 12)\n",
      "Test dataframe shape: (7967, 12)\n"
     ]
    }
   ],
   "source": [
    "# Place your code here\n",
    "df = pd.read_csv('cell2cell_data.csv')\n",
    "\n",
    "column_names = df.columns\n",
    "n = df.shape[0]\n",
    "\n",
    "# generate indexs of test data\n",
    "np.random.seed(0)\n",
    "test_index = []\n",
    "while len(test_index) < 0.2*n:\n",
    "    new_index = np.random.randint(0,n)\n",
    "    if new_index not in test_index:\n",
    "        test_index.append(new_index)\n",
    "\n",
    "\n",
    "# build train and test dataframes\n",
    "train_df = df[~df.index.isin(test_index)]\n",
    "test_df = df[df.index.isin(test_index)]\n",
    "\n",
    "print(\"Complete dataframe shape: \"+ str(df.shape))\n",
    "print(\"Train dataframe shape: \"+ str(train_df.shape))\n",
    "print(\"Test dataframe shape: \"+ str(test_df.shape))\n",
    "\n",
    "# train ans test data\n",
    "X_train, Y_train = train_df.iloc[:,:11], train_df.iloc[:,11]\n",
    "X_test, Y_test = test_df.iloc[:,:11], test_df.iloc[:,11]\n",
    "features, target = column_names[:11], column_names[11]"
   ]
  },
  {
   "cell_type": "markdown",
   "metadata": {
    "id": "UFVzQ0DoW5l2"
   },
   "source": [
    "2\\. Now build and train a decision tree classifier using `DecisionTreeClassifier()` [(manual page)](http://scikit-learn.org/stable/modules/generated/sklearn.tree.DecisionTreeClassifier.html) on train_df to predict the `\"churndep\"` target variable. Make sure to use `criterion='entropy'` when instantiating an instance of `DecisionTreeClassifier()`. For all other settings you should use all of the default options.\n",
    "\n",
    "(1 Point)"
   ]
  },
  {
   "cell_type": "code",
   "execution_count": 3,
   "metadata": {
    "id": "v2-FPpHjW5l3"
   },
   "outputs": [
    {
     "data": {
      "text/html": [
       "<style>#sk-container-id-1 {color: black;background-color: white;}#sk-container-id-1 pre{padding: 0;}#sk-container-id-1 div.sk-toggleable {background-color: white;}#sk-container-id-1 label.sk-toggleable__label {cursor: pointer;display: block;width: 100%;margin-bottom: 0;padding: 0.3em;box-sizing: border-box;text-align: center;}#sk-container-id-1 label.sk-toggleable__label-arrow:before {content: \"▸\";float: left;margin-right: 0.25em;color: #696969;}#sk-container-id-1 label.sk-toggleable__label-arrow:hover:before {color: black;}#sk-container-id-1 div.sk-estimator:hover label.sk-toggleable__label-arrow:before {color: black;}#sk-container-id-1 div.sk-toggleable__content {max-height: 0;max-width: 0;overflow: hidden;text-align: left;background-color: #f0f8ff;}#sk-container-id-1 div.sk-toggleable__content pre {margin: 0.2em;color: black;border-radius: 0.25em;background-color: #f0f8ff;}#sk-container-id-1 input.sk-toggleable__control:checked~div.sk-toggleable__content {max-height: 200px;max-width: 100%;overflow: auto;}#sk-container-id-1 input.sk-toggleable__control:checked~label.sk-toggleable__label-arrow:before {content: \"▾\";}#sk-container-id-1 div.sk-estimator input.sk-toggleable__control:checked~label.sk-toggleable__label {background-color: #d4ebff;}#sk-container-id-1 div.sk-label input.sk-toggleable__control:checked~label.sk-toggleable__label {background-color: #d4ebff;}#sk-container-id-1 input.sk-hidden--visually {border: 0;clip: rect(1px 1px 1px 1px);clip: rect(1px, 1px, 1px, 1px);height: 1px;margin: -1px;overflow: hidden;padding: 0;position: absolute;width: 1px;}#sk-container-id-1 div.sk-estimator {font-family: monospace;background-color: #f0f8ff;border: 1px dotted black;border-radius: 0.25em;box-sizing: border-box;margin-bottom: 0.5em;}#sk-container-id-1 div.sk-estimator:hover {background-color: #d4ebff;}#sk-container-id-1 div.sk-parallel-item::after {content: \"\";width: 100%;border-bottom: 1px solid gray;flex-grow: 1;}#sk-container-id-1 div.sk-label:hover label.sk-toggleable__label {background-color: #d4ebff;}#sk-container-id-1 div.sk-serial::before {content: \"\";position: absolute;border-left: 1px solid gray;box-sizing: border-box;top: 0;bottom: 0;left: 50%;z-index: 0;}#sk-container-id-1 div.sk-serial {display: flex;flex-direction: column;align-items: center;background-color: white;padding-right: 0.2em;padding-left: 0.2em;position: relative;}#sk-container-id-1 div.sk-item {position: relative;z-index: 1;}#sk-container-id-1 div.sk-parallel {display: flex;align-items: stretch;justify-content: center;background-color: white;position: relative;}#sk-container-id-1 div.sk-item::before, #sk-container-id-1 div.sk-parallel-item::before {content: \"\";position: absolute;border-left: 1px solid gray;box-sizing: border-box;top: 0;bottom: 0;left: 50%;z-index: -1;}#sk-container-id-1 div.sk-parallel-item {display: flex;flex-direction: column;z-index: 1;position: relative;background-color: white;}#sk-container-id-1 div.sk-parallel-item:first-child::after {align-self: flex-end;width: 50%;}#sk-container-id-1 div.sk-parallel-item:last-child::after {align-self: flex-start;width: 50%;}#sk-container-id-1 div.sk-parallel-item:only-child::after {width: 0;}#sk-container-id-1 div.sk-dashed-wrapped {border: 1px dashed gray;margin: 0 0.4em 0.5em 0.4em;box-sizing: border-box;padding-bottom: 0.4em;background-color: white;}#sk-container-id-1 div.sk-label label {font-family: monospace;font-weight: bold;display: inline-block;line-height: 1.2em;}#sk-container-id-1 div.sk-label-container {text-align: center;}#sk-container-id-1 div.sk-container {/* jupyter's `normalize.less` sets `[hidden] { display: none; }` but bootstrap.min.css set `[hidden] { display: none !important; }` so we also need the `!important` here to be able to override the default hidden behavior on the sphinx rendered scikit-learn.org. See: https://github.com/scikit-learn/scikit-learn/issues/21755 */display: inline-block !important;position: relative;}#sk-container-id-1 div.sk-text-repr-fallback {display: none;}</style><div id=\"sk-container-id-1\" class=\"sk-top-container\"><div class=\"sk-text-repr-fallback\"><pre>DecisionTreeClassifier(criterion=&#x27;entropy&#x27;)</pre><b>In a Jupyter environment, please rerun this cell to show the HTML representation or trust the notebook. <br />On GitHub, the HTML representation is unable to render, please try loading this page with nbviewer.org.</b></div><div class=\"sk-container\" hidden><div class=\"sk-item\"><div class=\"sk-estimator sk-toggleable\"><input class=\"sk-toggleable__control sk-hidden--visually\" id=\"sk-estimator-id-1\" type=\"checkbox\" checked><label for=\"sk-estimator-id-1\" class=\"sk-toggleable__label sk-toggleable__label-arrow\">DecisionTreeClassifier</label><div class=\"sk-toggleable__content\"><pre>DecisionTreeClassifier(criterion=&#x27;entropy&#x27;)</pre></div></div></div></div></div>"
      ],
      "text/plain": [
       "DecisionTreeClassifier(criterion='entropy')"
      ]
     },
     "execution_count": 3,
     "metadata": {},
     "output_type": "execute_result"
    }
   ],
   "source": [
    "# Place your code here\n",
    "\n",
    "# Descisiontree training\n",
    "des_tree = DecisionTreeClassifier(criterion='entropy')\n",
    "des_tree.fit(X_train,Y_train)"
   ]
  },
  {
   "cell_type": "markdown",
   "metadata": {
    "id": "urJi_aG2W5l4"
   },
   "source": [
    "3\\. Using the resulting model from 1.2, show a bar plot of feature names and their feature importance (hint: check the attributes of the `DecisionTreeClassifier()` object directly in IPython or check the manual!).\n",
    "\n",
    "(3 Points)"
   ]
  },
  {
   "cell_type": "code",
   "execution_count": 4,
   "metadata": {
    "id": "yZPfCT4oW5l4"
   },
   "outputs": [
    {
     "data": {
      "image/png": "[encoded data removed]",
      "text/plain": [
       "<Figure size 1000x500 with 1 Axes>"
      ]
     },
     "metadata": {},
     "output_type": "display_data"
    }
   ],
   "source": [
    "# Place your code here\n",
    "feature_importances = des_tree.feature_importances_\n",
    "\n",
    "# Important features plot\n",
    "fig = plt.figure(figsize = (10, 5))\n",
    "plt.bar(features, feature_importances, width=0.5)\n",
    "plt.xlabel(\"feature names\")\n",
    "plt.ylabel(\"feature importances\")\n",
    "plt.show()"
   ]
  },
  {
   "cell_type": "markdown",
   "metadata": {
    "id": "qrtv9VFZW5l5"
   },
   "source": [
    "4\\. Is the relationship between the top 3 most important features (as measured here) negative or positive? If your marketing director asked you to explain the top 3 drivers of churn, how would you interpret the relationship between these 3 features and the churn outcome?  What \"real-life\" connection can you draw between each variable and churn?\n",
    "\n",
    "(2 Points)"
   ]
  },
  {
   "cell_type": "code",
   "execution_count": 5,
   "metadata": {
    "id": "NTf_FsIlW5l6"
   },
   "outputs": [
    {
     "name": "stdout",
     "output_type": "stream",
     "text": [
      "The top three features are:\n",
      "   1) revenue (Mean monthly revenue in dollars)\n",
      "   2) eqpdays (Number of days the customer has had his/her current equipment)\n",
      "   3) outcalls (Mean number of outbound voice calls)\n",
      "\n",
      "Correlation coefficent matrix of top 3 features: \n",
      "[[ 1.         -0.22207391  0.50070896]\n",
      " [-0.22207391  1.         -0.24411249]\n",
      " [ 0.50070896 -0.24411249  1.        ]]\n",
      "\n",
      "Relationship between top 3 most important features:\n",
      "   1) The relation between revenue and eqpdays is negative\n",
      "   2) The relation between revenue and outcalls is positive\n",
      "   3) The relation between eqpdays and outcalls is negative\n",
      "\n",
      "One can see that these features are not that correlated (|correlation coeff|<0.7). So we can conclude that these 3 drives are independent\n",
      "\n",
      "1) These 3 features are not that correlated to each other. In other words these 3 features are indepandent\n",
      "2) But while predicting the churndep using desicion trees, these 3 features are more important\n",
      "3) If revenue is low, eqpdays is high, outcalls is low then that customer is likely to churn\n",
      "4) If revenue is high, eqpdays is low, outcalls is high then that customer is likely to not churn\n",
      "\n",
      "To make sense of real-life connection\n",
      "   1) If the mean monthly revenue in dollars of a customer if low he is likely to churn\n",
      "   2) If the number of days the customer has had his/her current equipment is high he is likely to churn\n",
      "   3) If the mean number of outbound voice calls of a customer if low he is likely to churn\n"
     ]
    }
   ],
   "source": [
    "# Place your code here\n",
    "\n",
    "# Top 3 important features\n",
    "print(\"The top three features are:\")\n",
    "print(\"   1) revenue (Mean monthly revenue in dollars)\")\n",
    "print(\"   2) eqpdays (Number of days the customer has had his/her current equipment)\")\n",
    "print(\"   3) outcalls (Mean number of outbound voice calls)\\n\")\n",
    "\n",
    "\n",
    "# Correlation between top 3 important features\n",
    "temp_df = df[['revenue','eqpdays','outcalls']]\n",
    "corr_coef = np.corrcoef(temp_df.T)\n",
    "print(\"Correlation coefficent matrix of top 3 features: \")\n",
    "print(corr_coef)\n",
    "print(\"\\nRelationship between top 3 most important features:\")\n",
    "print(\"   1) The relation between revenue and eqpdays is negative\")\n",
    "print(\"   2) The relation between revenue and outcalls is positive\")\n",
    "print(\"   3) The relation between eqpdays and outcalls is negative\\n\")\n",
    "\n",
    "\n",
    "print(\"One can see that these features are not that correlated (|correlation coeff|<0.7). So we can conclude that these 3 drives are independent\\n\")\n",
    "\n",
    "print(\"1) These 3 features are not that correlated to each other. In other words these 3 features are indepandent\")\n",
    "print(\"2) But while predicting the churndep using desicion trees, these 3 features are more important\")\n",
    "print(\"3) If revenue is low, eqpdays is high, outcalls is low then that customer is likely to churn\")\n",
    "print(\"4) If revenue is high, eqpdays is low, outcalls is high then that customer is likely to not churn\")\n",
    "\n",
    "\n",
    "print(\"\\nTo make sense of real-life connection\")\n",
    "print(\"   1) If the mean monthly revenue in dollars of a customer if low he is likely to churn\")\n",
    "print(\"   2) If the number of days the customer has had his/her current equipment is high he is likely to churn\")\n",
    "print(\"   3) If the mean number of outbound voice calls of a customer if low he is likely to churn\")"
   ]
  },
  {
   "cell_type": "markdown",
   "metadata": {
    "id": "COSPdyw6W5l6"
   },
   "source": [
    "5\\. Using the classifier built in 1.2, try predicting `\"churndep\"` on both the train_df and test_df data sets. What is the accuracy on each?\n",
    "\n",
    "(2 Points)"
   ]
  },
  {
   "cell_type": "code",
   "execution_count": 6,
   "metadata": {
    "id": "Y82nH7NnW5l7"
   },
   "outputs": [
    {
     "name": "stdout",
     "output_type": "stream",
     "text": [
      "Train accuracy = 0.9998117115420825\n",
      "Test accuracy = 0.5392243002384838\n"
     ]
    }
   ],
   "source": [
    "# Place your code here\n",
    "\n",
    "# calculate train accuracy\n",
    "train_accuracy = des_tree.score(X_train, Y_train)\n",
    "\n",
    "# calculate test accuracy\n",
    "test_accuracy = des_tree.score(X_test, Y_test)\n",
    "\n",
    "print(\"Train accuracy = \"+ str(train_accuracy))\n",
    "print(\"Test accuracy = \"+ str(test_accuracy))"
   ]
  },
  {
   "cell_type": "markdown",
   "metadata": {
    "id": "rj8ABZTZW5l7"
   },
   "source": [
    "### **Part 2 - Finding a Good Decision Tree (Total 10 Points)**\n"
   ]
  },
  {
   "cell_type": "markdown",
   "metadata": {
    "id": "0uBeh5FLOKxS"
   },
   "source": [
    "The default options for your decision tree may not be optimal. We need to analyze whether tuning the parameters can improve the accuracy of the classifier.  For the following options `min_samples_split` and `min_samples_leaf`:"
   ]
  },
  {
   "cell_type": "markdown",
   "metadata": {
    "id": "43jCpTXKW5l7"
   },
   "source": [
    "1\\. Generate a list of 10 values of each for the parameters min_samples_split and min_samples_leaf.\n",
    "\n",
    "(1 Point)"
   ]
  },
  {
   "cell_type": "code",
   "execution_count": 7,
   "metadata": {
    "id": "tSOC_cwoW5l8"
   },
   "outputs": [
    {
     "name": "stdout",
     "output_type": "stream",
     "text": [
      "min_samples_leaf_list = [150, 200, 250, 300, 350, 400, 450, 500, 550, 600]\n",
      "min_samples_split_list = [500, 1000, 2000, 3000, 4000, 5000, 6000, 7000, 8000, 9000]\n"
     ]
    }
   ],
   "source": [
    "# Place your code here\n",
    "# 31,866\n",
    "min_samples_split_list = [] #minimum number of samples required to split an internal node # default 2\n",
    "min_samples_leaf_list = [] #minimum number of samples required to be at a leaf node # default 1\n",
    "min_samples_leaf = 150\n",
    "min_samples_split = 500\n",
    "\n",
    "# generate 10 values each for min_samples_split and min_samples_leaf\n",
    "for i in range(10):\n",
    "    min_samples_leaf_list.append(min_samples_leaf)\n",
    "    min_samples_leaf = min_samples_leaf + 50\n",
    "    min_samples_split_list.append(min_samples_split)\n",
    "    if i==0:\n",
    "        min_samples_split = min_samples_split + 500\n",
    "    else:\n",
    "        min_samples_split = min_samples_split + 1000\n",
    "        \n",
    "\n",
    "print(\"min_samples_leaf_list = \"+str(min_samples_leaf_list))\n",
    "print(\"min_samples_split_list = \"+str(min_samples_split_list))"
   ]
  },
  {
   "cell_type": "markdown",
   "metadata": {
    "id": "J5-iUr7gW5l8"
   },
   "source": [
    "2\\. Explain in words your reasoning for choosing the above ranges.\n",
    "\n",
    "(1 Points)"
   ]
  },
  {
   "cell_type": "markdown",
   "metadata": {
    "id": "Fs6wgdg9M8t_"
   },
   "source": [
    "1. I want to explore the range from under fitting to overfitting.\n",
    "2. For small values of min_samples_leaf, min_samples_split the model is prone to overfit (mode nodes/leafs) and For large values of min_samples_leaf, min_samples_split the model is prone to underfit (less nodes/leafs)\n",
    "3. Since there are 31,866 samples in the train data I picked the min_samples_split range from 500 to 9000 samples and min_samples_leaf from 150 to 600 samples. \n",
    "4. Since we we doing for each min_samples_split,min_samples_leaf in the respective ranges. We will be exploring the good cases and worst cases."
   ]
  },
  {
   "cell_type": "markdown",
   "metadata": {
    "id": "eN8_nlYPW5l8"
   },
   "source": [
    "3\\. For each combination of values in 3.1 (there should be 100), build a new classifier and check the classifier's accuracy on the test data. Plot the test set accuracy for these options. Use the values of `min_samples_split` as the x-axis and generate a new series (line) for each of `min_samples_leaf`.\n",
    "\n",
    "(5 Points)"
   ]
  },
  {
   "cell_type": "code",
   "execution_count": 8,
   "metadata": {
    "id": "e5HkS_nyW5l9"
   },
   "outputs": [
    {
     "name": "stdout",
     "output_type": "stream",
     "text": [
      "Legend shows the min_samples_leaf values parameter:\n"
     ]
    },
    {
     "data": {
      "image/png": "[encoded data removed]",
      "text/plain": [
       "<Figure size 1000x500 with 1 Axes>"
      ]
     },
     "metadata": {},
     "output_type": "display_data"
    }
   ],
   "source": [
    "# Place your code here\n",
    "#min_samples_leaf_list = [150, 200, 250, 300, 350, 400, 450, 500, 550, 600]\n",
    "#min_samples_split_list = [500, 1000, 2000, 3000, 4000, 5000, 6000, 7000, 8000, 9000]\n",
    "\n",
    "#generate accuracies for each combination of min_samples_leaf and min_samples_split\n",
    "test_accuracy = []\n",
    "for min_samples_leaf in min_samples_leaf_list:\n",
    "    accuracies = []\n",
    "    for min_samples_split in min_samples_split_list:\n",
    "        des_tree = DecisionTreeClassifier(criterion='entropy', min_samples_split=min_samples_split, min_samples_leaf=min_samples_leaf)\n",
    "        des_tree.fit(X_train,Y_train)\n",
    "        accuracies.append(des_tree.score(X_test,Y_test))\n",
    "    test_accuracy.append(accuracies)\n",
    "\n",
    "print(\"Legend shows the min_samples_leaf values parameter:\")\n",
    "    \n",
    "fig = plt.figure(figsize = (10, 5))\n",
    "for i in range(10):\n",
    "    plt.plot(min_samples_split_list, test_accuracy[i])\n",
    "    \n",
    "plt.xlabel(\"min_samples_split\")\n",
    "plt.ylabel(\"test accuracy\")\n",
    "plt.legend(min_samples_leaf_list, loc =\"upper right\") \n",
    "plt.show()"
   ]
  },
  {
   "cell_type": "markdown",
   "metadata": {
    "id": "HWgFUXK-W5l9"
   },
   "source": [
    "4\\. Which configuration returns the best accuracy? What is this accuracy? (Note, if you don't see much variation in the test set accuracy across values of min_samples_split or min_samples_leaf, try redoing the above steps with a different range of values).\n",
    "\n",
    "(1 Point)"
   ]
  },
  {
   "cell_type": "markdown",
   "metadata": {
    "id": "goSHZNjGMg5u"
   },
   "source": [
    " 1. For (min_samples_leaf, min_samples_split) = (250, 4000) we got the best test accuracy.\n",
    " 2. Best test accuracy obtained is equal to 0.5967"
   ]
  },
  {
   "cell_type": "markdown",
   "metadata": {
    "id": "6K6oetWeW5l-"
   },
   "source": [
    "5\\. If you were working for a marketing department, how would you use your churn production model in a real business environment? Explain why churn prediction might be good for the business and how one might improve churn by using this model.\n",
    "\n",
    "(2 Points)"
   ]
  },
  {
   "cell_type": "markdown",
   "metadata": {
    "id": "uWJkY7N2MmTk"
   },
   "source": [
    "1. If we have the data of people who are not customer yet. We can predict the churndep of these people using our model then we can do targeted marketing. When find that a group of people if they becomes a customers, will not churn, then we can market our product to those people and try to make them our customers for better bussiness rather than marketing to everyone.\n",
    "\n",
    "2. We can do targeted marketing using this model. That's why churn prediction model is good for bussiness.\n",
    "\n",
    "3. If there is a new customer, we can predict if this customer will churn or not in the future. If the model indicates that the customer will churn we can find ways (incentives) to keep the customer like discounts/rewards etc.\n",
    "\n",
    "4. Incentivise customers who are prone to churn is one of the way we can use these model to improve churn."
   ]
  },
  {
   "cell_type": "markdown",
   "metadata": {
    "collapsed": true,
    "id": "Lkz5xJiWW5l-"
   },
   "source": [
    "### **Part 3: Model selection with cross-validation (5 points)**\n"
   ]
  },
  {
   "cell_type": "markdown",
   "metadata": {
    "id": "BAu5rwsQOQir"
   },
   "source": [
    "In this part, we will focus on cross-validation to find a good value for parameter `max_depth`.\n"
   ]
  },
  {
   "cell_type": "markdown",
   "metadata": {
    "id": "RORjY0z4W5l-"
   },
   "source": [
    "1\\. Write a cross-validation function that does the following:\n",
    "- Takes as inputs a dataset, a label name, # of splits/folds (`k`), and a sequence of values for the maximum depth of the tree (`max_depth`).\n",
    "- Shuffles the data.\n",
    "- Splits the data into `k` folds according to the cross-validation logic\n",
    "- Performs two loops\n",
    "  - Outer Loop: `for each f in range(k)`:\n",
    "    - Inner Loop: `for each value in max_depth_sequence`:\n",
    "      - Trains a Decision Tree on the training split with the `max_depth=value` (USE criterion='entropy' BUT DO NOT ALTER THE OTHER PARAMETERS)\n",
    "      - Computes accuracy_value_f on test split\n",
    "      - Stores accuracy_value_f in a  dictionary of values\n",
    "- Returns a dictionary, where each key-value pair is: `value:[accuracy_value_1,...,accuracy_value_k]`\n",
    "\n",
    "(2 Points)"
   ]
  },
  {
   "cell_type": "code",
   "execution_count": 9,
   "metadata": {
    "id": "ueSTmrufMEE7"
   },
   "outputs": [],
   "source": [
    "# Place your code here\n",
    "def xValDecisionTree(dataset, label, k, max_depth_sequence):\n",
    "    accuracy = {}\n",
    "    for max_depth in max_depth_sequence:\n",
    "        accuracy[max_depth] = []\n",
    "    \n",
    "    # Shuffle the data\n",
    "    dataset = dataset.sample(frac = 1,random_state=0)\n",
    "    \n",
    "    # K-fold splits\n",
    "    kf = model_selection.KFold(n_splits=k)\n",
    "    kfold_indexes = list(kf.split(dataset))\n",
    "    \n",
    "    # calculate accuracy_value_f\n",
    "    for f in range(k):\n",
    "        for max_depth in max_depth_sequence:\n",
    "            des_tree = DecisionTreeClassifier(criterion='entropy', max_depth=max_depth)\n",
    "            des_tree.fit(dataset.loc[kfold_indexes[f][0],~dataset.columns.isin([label])], dataset.loc[kfold_indexes[f][0],dataset.columns.isin([label])])\n",
    "            score = des_tree.score(dataset.iloc[kfold_indexes[f][1],~dataset.columns.isin([label])], dataset.iloc[kfold_indexes[f][1],dataset.columns.isin([label])])\n",
    "            accuracy[max_depth].append(score)\n",
    "        \n",
    "    return accuracy"
   ]
  },
  {
   "cell_type": "markdown",
   "metadata": {
    "id": "_mVjLoczW5l_"
   },
   "source": [
    "2\\. Using the function written above, do the following:\n",
    "- Generate a sequence `max_depth_sequence = [None, 2, 4, 8, 16, 32, 128, 256, 512]` (Note that None is the default value for this parameter).\n",
    "2.\tCall accs = xValDecisionTree(dataset, 'churndep', 10, `max_depth_sequence`)\n",
    "3.  For each value in accs.keys(), calculate mean(accs[value]). What value is associated with the highest accuracy mean?\n",
    "4.  For each value in accs.keys(), calculate the ranges mean(accs[value]) +/- std(accs[value]). Do the ranges associated with the value that has the highest mean(accs[value]) overlap with ranges for other values? What may this suggest and what are the limitations of a standard deviation based analysis in this scenario?\n",
    "\n",
    "5.  Which depth value would you pick, if any, and why?\n",
    "\n",
    "(3 Points)"
   ]
  },
  {
   "cell_type": "code",
   "execution_count": 10,
   "metadata": {
    "id": "vhxqce5FMFRF"
   },
   "outputs": [
    {
     "name": "stdout",
     "output_type": "stream",
     "text": [
      "For value = None; mean(accs[value]) = 0.9090954200936308\n",
      "For value = 2; mean(accs[value]) = 0.5620983179516964\n",
      "For value = 4; mean(accs[value]) = 0.573670787846339\n",
      "For value = 8; mean(accs[value]) = 0.5881312596607872\n",
      "For value = 16; mean(accs[value]) = 0.6746420908338349\n",
      "For value = 32; mean(accs[value]) = 0.8688525820580842\n",
      "For value = 128; mean(accs[value]) = 0.9091707402041003\n",
      "For value = 256; mean(accs[value]) = 0.9090200873793945\n",
      "For value = 512; mean(accs[value]) = 0.90922095361108\n",
      "\n",
      "Higheset mean accuracy is obtained at max_depth/value = 128\n",
      "\n",
      "For value = None; ranges mean(accs[value]) +/- std(accs[value]) = (0.9041717433023055 , 0.914019096884956)\n",
      "For value = 2; ranges mean(accs[value]) +/- std(accs[value]) = (0.5388514004991002 , 0.5853452354042926)\n",
      "For value = 4; ranges mean(accs[value]) +/- std(accs[value]) = (0.5614456676364195 , 0.5858959080562585)\n",
      "For value = 8; ranges mean(accs[value]) +/- std(accs[value]) = (0.5704899362791237 , 0.6057725830424506)\n",
      "For value = 16; ranges mean(accs[value]) +/- std(accs[value]) = (0.6577193772693918 , 0.6915648043982779)\n",
      "For value = 32; ranges mean(accs[value]) +/- std(accs[value]) = (0.8548454130624019 , 0.8828597510537666)\n",
      "For value = 128; ranges mean(accs[value]) +/- std(accs[value]) = (0.9045124174794126 , 0.913829062928788)\n",
      "For value = 256; ranges mean(accs[value]) +/- std(accs[value]) = (0.9044248401389018 , 0.9136153346198873)\n",
      "For value = 512; ranges mean(accs[value]) +/- std(accs[value]) = (0.9045934506973194 , 0.9138484565248406)\n",
      "\n",
      "You can see the range for value = 128 above\n",
      "Yes, this range overlaps with the range for values = None, 256, 512\n",
      "\n",
      "1) It suggests that the for max_depth = 128 or 256 or 512, We will get equally good model with some variance\n",
      "2) Which max_depth gives the high accuracy is highly depend on the input data\n",
      "3) Standard deviation-based analysis does not directly consider the complexity of the models being evaluated. It treats all models as equally valid, which may not be appropriate in situations where model complexity(max_depth) varies\n",
      "\n",
      "I will pick the value = 128, because of high mean acuracy in 10 fold cross validation\n"
     ]
    }
   ],
   "source": [
    "# Place your code here\n",
    "max_depth_sequence = [None]\n",
    "val = 1\n",
    "for i in range(9):\n",
    "    val = val*2\n",
    "    if not val==64:\n",
    "        max_depth_sequence.append(val)\n",
    "    \n",
    "accs = xValDecisionTree(df, 'churndep', 10, max_depth_sequence)\n",
    "\n",
    "# mean accuracies for each value\n",
    "for value in accs.keys():\n",
    "    print(\"For value = \"+str(value)+\"; mean(accs[value]) = \"+ str(np.mean(accs[value])))\n",
    "\n",
    "print(\"\\nHigheset mean accuracy is obtained at max_depth/value = 128\\n\")\n",
    "\n",
    "# range (mean +/- std) for each value\n",
    "for value in accs.keys():\n",
    "    mean = np.mean(accs[value])\n",
    "    std = np.std(accs[value])\n",
    "    print(\"For value = \"+str(value)+\"; ranges mean(accs[value]) +/- std(accs[value]) = (\"+ str(mean-std)+\" , \"+str(mean+std)+\")\")\n",
    "\n",
    "print(\"\\nYou can see the range for value = 128 above\")\n",
    "print(\"Yes, this range overlaps with the range for values = None, 256, 512\")\n",
    "\n",
    "print(\"\\n1) It suggests that the for max_depth = 128 or 256 or 512, We will get equally good model with some variance\")\n",
    "print(\"2) Which max_depth gives the high accuracy is highly depend on the input data\")\n",
    "print(\"3) Standard deviation-based analysis does not directly consider the complexity of the models being evaluated. It treats all models as equally valid, which may not be appropriate in situations where model complexity(max_depth) varies\")\n",
    "\n",
    "print(\"\\nI will pick the value = 128, because of high mean acuracy in 10 fold cross validation\")"
   ]
  },
  {
   "cell_type": "markdown",
   "metadata": {
    "id": "78CJdaQzO1sC"
   },
   "source": [
    "### **Part 4: Boosting (5 Points)**\n"
   ]
  },
  {
   "cell_type": "markdown",
   "metadata": {
    "id": "GUHIOAxaPHOn"
   },
   "source": [
    "Now, as we covered in class, ensemble methods are often used to improve performance.\n",
    "\n",
    "1. Implement the boosting algorithm: XGBoost for the same `cell2cell_data.csv` task as above. You will have to select how to tune hyperparameters. Besides depth, which other hyperparametrs do you optimize for? (2 points)"
   ]
  },
  {
   "cell_type": "markdown",
   "metadata": {
    "id": "GPvZZHlvPfh_"
   },
   "source": [
    "1. Besides depth i've optimised for number of estimators (n_estimators).\n",
    "2. n_estimators(number of estimaters in Ensemble) is a important parameter in boosting algorithm. So I wanted to see which value of n_estimator is best in boosting."
   ]
  },
  {
   "cell_type": "code",
   "execution_count": 11,
   "metadata": {
    "id": "HLsVwARuPedB"
   },
   "outputs": [
    {
     "name": "stdout",
     "output_type": "stream",
     "text": [
      "{'max_depth': 2, 'n_estimators': 100}\n",
      "Test accuracy of XGBoost =  0.6028618049453998\n"
     ]
    }
   ],
   "source": [
    "# Place your code here\n",
    "xgb_model = xgb.XGBClassifier()\n",
    "\n",
    "from sklearn.model_selection import GridSearchCV\n",
    "\n",
    "param_grid = {\n",
    "    'max_depth': [2, 4, 8, 16, 32, 64, 128, 256, 512],\n",
    "    'n_estimators': [100, 200, 300]\n",
    "}\n",
    "\n",
    "grid_search = GridSearchCV(estimator=xgb_model, param_grid=param_grid, scoring='accuracy', cv=10)\n",
    "grid_search.fit(X_train, Y_train)\n",
    "\n",
    "# get best model\n",
    "best_params = grid_search.best_params_\n",
    "xgb_model.set_params(**best_params)\n",
    "\n",
    "#parameters of best model\n",
    "print(best_params)\n",
    "\n",
    "#train on best model\n",
    "xgb_model.fit(X_train, Y_train)\n",
    "y_pred = xgb_model.predict(X_test)\n",
    "\n",
    "#test on best model\n",
    "accuracy = accuracy_score(Y_test, y_pred)\n",
    "print(\"Test accuracy of XGBoost = \", accuracy)"
   ]
  },
  {
   "cell_type": "markdown",
   "metadata": {
    "id": "HVKhgl4eBsmC"
   },
   "source": [
    "2. Now compare the XGBoost performance to the decision tree implementation from part 3. Describe in text how they compare, and if this aligns with what you expect. (3 points)"
   ]
  },
  {
   "cell_type": "code",
   "execution_count": 12,
   "metadata": {
    "id": "Euk6L8QHPfAQ"
   },
   "outputs": [
    {
     "name": "stdout",
     "output_type": "stream",
     "text": [
      "Accuracy of decision tree of max_depth(=128) = 0.537718087109326\n"
     ]
    }
   ],
   "source": [
    "# Place your code here\n",
    "\n",
    "#calculate test score for best max_depth obtained in part 3\n",
    "des_tree = DecisionTreeClassifier(criterion='entropy', max_depth=128)\n",
    "des_tree.fit(X_train, Y_train)\n",
    "score = des_tree.score(X_test, Y_test)\n",
    "print(\"Accuracy of decision tree of max_depth(=128) = \" +str(score))"
   ]
  },
  {
   "cell_type": "markdown",
   "metadata": {
    "id": "WZ52FXv8kHnR"
   },
   "source": [
    "1. Test accuracy of XGBoost optimal model (0.6) is more than Test accuracy of decision tree of max_depth(=128)(0.5)\n",
    "2. Test accuracy of using boosting algorithm is more than decision tree implementation from part 3\n",
    "3. This is as expected, because the Ensemble methods is expected to perform better. We can see the improvement in test accuracy while using boosting algorithm."
   ]
  },
  {
   "cell_type": "markdown",
   "metadata": {
    "id": "AcxGQ2L0k8P1"
   },
   "source": [
    "## End of homework"
   ]
  }
 ],
 "metadata": {
  "colab": {
   "provenance": []
  },
  "kernelspec": {
   "display_name": "Python 3 (ipykernel)",
   "language": "python",
   "name": "python3"
  },
  "language_info": {
   "codemirror_mode": {
    "name": "ipython",
    "version": 3
   },
   "file_extension": ".py",
   "mimetype": "text/x-python",
   "name": "python",
   "nbconvert_exporter": "python",
   "pygments_lexer": "ipython3",
   "version": "3.11.4"
  }
 },
 "nbformat": 4,
 "nbformat_minor": 1
}
