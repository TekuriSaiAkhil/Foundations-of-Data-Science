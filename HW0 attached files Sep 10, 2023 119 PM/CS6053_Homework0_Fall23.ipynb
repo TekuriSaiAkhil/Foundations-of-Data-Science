{
 "cells": [
  {
   "cell_type": "markdown",
   "metadata": {
    "id": "1IWG66EBbLve"
   },
   "source": [
    "Student Name: Sai Akhil Tekuri\n",
    "\n",
    "Student Netid: st5050"
   ]
  },
  {
   "cell_type": "markdown",
   "metadata": {
    "id": "SuO-o33fbLva"
   },
   "source": [
    "# **Foundations of Data Science Fall 2022 - Homework 0 (30 points)**\n",
    "\n",
    "---\n",
    "\n"
   ]
  },
  {
   "cell_type": "markdown",
   "metadata": {
    "id": "embhI1ZNj0OX"
   },
   "source": [
    "### **Part 1: Pre-class survey (5 Points)**\n",
    "\n",
    "---\n",
    "\n",
    "\n",
    "- Fill in [this survey](https://forms.gle/NSDTZB7hNHgdPiyr5) which will help our course team understand student backgrounds and interests.\n"
   ]
  },
  {
   "cell_type": "markdown",
   "metadata": {
    "id": "zNDZ8BY8bLvf"
   },
   "source": [
    "### **Part 2: Case study (5 Points)**\n",
    "\n",
    "---\n",
    "\n",
    "\n",
    "- Read [this article](https://drive.google.com/file/d/1zRxm8WrOtdeT1pQKgKcjzd3J1x8GLTtb/view?usp=sharing) in the New York Times.\n",
    "- Use what we've learned in class to describe how one could set Target's problem up as a predictive modeling problem, such that they could have gotten the results that they did.  Formulate your solution as a proposed plan using  data science terminology discussed in class.  Include aspects of the Data Science Workflow that you see as relevant to solving the problem.  Be precise but concise."
   ]
  },
  {
   "cell_type": "markdown",
   "metadata": {
    "id": "CCIl5aB6bLvf"
   },
   "source": [
    "Predicting Pregnancy:\n",
    "\n",
    "- Target's problem: The shopping habits of parents right around the birth of their child are flexible. Target wants to target parents during this time (around the birth of their child) to buy products from them so that it becomes a habit in the future and increases sales.\n",
    "\n",
    "- Target's Goal: Detect changes in the shopping patterns of the customers and predict if a women is pregnant.\n",
    "\n",
    "- Get Data: Target has a baby-shower registry. Collect the shopping history and due date of women in this registry as a sample.\n",
    "\n",
    "- Explore and model data: Analyse the data collected and identify the shopping patterns/products and build a model that gives each shopper a \"pregnancy prediction\" score\n",
    "\n",
    "- Impact: The model predicts if a shopper is pregnant and the sales team sends out offers on baby products and others to attract these shoppers right around the birth of a child.\n"
   ]
  },
  {
   "cell_type": "markdown",
   "metadata": {
    "id": "zre_pTeabLvg"
   },
   "source": [
    "### **Part 3: Exploring data in the command line (4 Points - 1 Point Each)**\n",
    "\n",
    "---\n",
    "\n",
    "\n",
    "\n",
    "\n",
    "*   For this part we will be using the data file `\"loansData.csv\"`. This file\n",
    "consists of records that pertain to some loan records in a local bank. There are 15 comma separated columns in this order:\n",
    ">> `CustNUm`, `Amount.Requested`,\t`Amount.Funded.By.Investors`,\t`Interest.Rate`,\t`Loan.Length`,\t`Loan.Purpose`,\t`Debt.To.Income.Ratio`,\t`State`,\t`Home.Ownership`,\t`Monthly.Income`,\t`FICO.Range`,\t`Open.CREDIT.Lines`,\t`Revolving.CREDIT.Balance`,\t`Inquiries.in.the.Last.6.Months`, and\t`Employment.Length`.\n",
    "*   These fields contain data of type `int`, `float`, and `string`, and you can also locate a file `\"data/loansData_columns.csv\"`in the data folder containing all the column names for easy reference.  Answer the following questions using Linux/Unix bash commands. All questions can be answered in one line (sometimes, with pipes)! Some questions will have many possible solutions. Don't forget that in iPython notebooks you must prefix all bash commands with an exclamation point, i.e. `\"!command arguments\"`.\n"
   ]
  },
  {
   "cell_type": "markdown",
   "metadata": {
    "id": "wPgt-hhAbLvg"
   },
   "source": [
    ">>**1**\\. *How many records (lines) are in this file?*\n",
    "\n",
    "\n"
   ]
  },
  {
   "cell_type": "code",
   "execution_count": 1,
   "metadata": {
    "id": "uMqN-CkUbLvh"
   },
   "outputs": [
    {
     "name": "stdout",
     "output_type": "stream",
     "text": [
      "    2500\r\n"
     ]
    }
   ],
   "source": [
    "# Place your code here\n",
    "!tail -n +2 data/loansData.csv | wc -l"
   ]
  },
  {
   "cell_type": "markdown",
   "metadata": {
    "id": "j_pjxcQ8bLvi"
   },
   "source": [
    ">>**2**\\. *How many unique `State` (the 8th field) are in this file? (hint: consider the 'cut' command and use pipe operator '|')*\n",
    "\n"
   ]
  },
  {
   "cell_type": "code",
   "execution_count": 2,
   "metadata": {
    "id": "WEs1ehJhbLvj"
   },
   "outputs": [
    {
     "name": "stdout",
     "output_type": "stream",
     "text": [
      "      46\r\n"
     ]
    }
   ],
   "source": [
    "# Place your code here\n",
    "!tail -n +2 data/loansData.csv | cut -d \",\" -f 8 | sort | uniq | wc -l"
   ]
  },
  {
   "cell_type": "markdown",
   "metadata": {
    "id": "pJn3HfcKbLvj"
   },
   "source": [
    ">>**3**\\. *Rank all domains by the number of `Loan.Purpose` (the 6th field) they requested in descending order. (hint: consider the 'cut', 'uniq' and 'sort' commands and the pipe operator).*\n",
    "\n"
   ]
  },
  {
   "cell_type": "code",
   "execution_count": 3,
   "metadata": {
    "id": "8XA3nApCbLvk"
   },
   "outputs": [
    {
     "name": "stdout",
     "output_type": "stream",
     "text": [
      "     1\t\"debt_consolidation\"\r\n",
      "     2\t\"credit_card\"\r\n",
      "     3\t\"other\"\r\n",
      "     4\t\"home_improvement\"\r\n",
      "     5\t\"major_purchase\"\r\n",
      "     6\t\"small_business\"\r\n",
      "     7\t\"car\"\r\n",
      "     8\t\"wedding\"\r\n",
      "     9\t\"medical\"\r\n",
      "    10\t\"moving\"\r\n",
      "    11\t\"vacation\"\r\n",
      "    12\t\"house\"\r\n",
      "    13\t\"educational\"\r\n",
      "    14\t\"renewable_energy\"\r\n"
     ]
    }
   ],
   "source": [
    "# Place your code here\n",
    "!tail -n +2 data/loansData.csv | cut -d \",\" -f 6 | sort | uniq -c | sort -nr | awk '{print $2}' | nl"
   ]
  },
  {
   "cell_type": "markdown",
   "metadata": {
    "id": "vthOuqzRbLvk"
   },
   "source": [
    ">>**4**\\. *List all records which have `FICO.Range` (the 11th field) from 815-819. (hint: this can be done using 'grep')*\n",
    "\n",
    "\n"
   ]
  },
  {
   "cell_type": "code",
   "execution_count": 4,
   "metadata": {
    "id": "uCQ0dD1XbLvl"
   },
   "outputs": [
    {
     "name": "stdout",
     "output_type": "stream",
     "text": [
      "\"64884\",9000,9000,\"6.03%\",\"36 months\",\"vacation\",\"5.58%\",\"NJ\",\"MORTGAGE\",9583.33,\"815-819\",11,675,0,\"n/a\"\r\n",
      "\"55501\",8000,8000,\"6.03%\",\"36 months\",\"debt_consolidation\",\"4.51%\",\"OR\",\"MORTGAGE\",3500,\"815-819\",9,6737,0,\"10+ years\"\r\n",
      "\"93374\",16500,16500,\"6.03%\",\"36 months\",\"debt_consolidation\",\"22.65%\",\"CA\",\"MORTGAGE\",5416.67,\"815-819\",17,14835,0,\"10+ years\"\r\n",
      "\"90568\",4800,4800,\"6.62%\",\"36 months\",\"car\",\"10.42%\",\"TX\",\"MORTGAGE\",7291.67,\"815-819\",14,0,0,\"< 1 year\"\r\n",
      "\"80302\",16800,16800,\"7.90%\",\"60 months\",\"debt_consolidation\",\"3.34%\",\"FL\",\"MORTGAGE\",10666.67,\"815-819\",7,4757,0,\"10+ years\"\r\n",
      "\"5906\",12800,12787.71,\"8.94%\",\"36 months\",\"debt_consolidation\",\"0.18%\",\"AZ\",\"MORTGAGE\",2833.33,\"815-819\",7,306,0,\"4 years\"\r\n"
     ]
    }
   ],
   "source": [
    "# Place your code here\n",
    "!tail -n +2 data/loansData.csv | grep -h \"815-819\""
   ]
  },
  {
   "cell_type": "markdown",
   "metadata": {
    "id": "QXUZ_U1NbLvl"
   },
   "source": [
    "### **Part 4: Dealing with data Pythonically (16 Points)**\n",
    "\n",
    "---\n",
    "\n"
   ]
  },
  {
   "cell_type": "code",
   "execution_count": 5,
   "metadata": {
    "id": "SfQY_MJ2bLvl"
   },
   "outputs": [],
   "source": [
    "# You might find these packages useful. You may import any others you want!\n",
    "import pandas as pd\n",
    "import numpy as np\n",
    "import matplotlib.pyplot as plt\n",
    "%matplotlib inline"
   ]
  },
  {
   "cell_type": "markdown",
   "metadata": {
    "id": "KpbpUMXsbLvm"
   },
   "source": [
    ">>**1**\\. **(1 Point)** *Load the data set `\"data/ads_dataset.tsv\"` and load it into a Python Pandas data frame called `ads`.*\n",
    "\n",
    "\n"
   ]
  },
  {
   "cell_type": "code",
   "execution_count": 6,
   "metadata": {
    "id": "bND3bVmnbLvm"
   },
   "outputs": [],
   "source": [
    "# Place your code here\n",
    "# reading the tsv file\n",
    "ads = pd.read_csv('data/ads_dataset.tsv', sep='\\t', header=0)"
   ]
  },
  {
   "cell_type": "markdown",
   "metadata": {
    "id": "wnd29b7YbLvm"
   },
   "source": [
    ">>**2**\\. **(4 Points)** *Write a Python function called `getDfSummary()` that does the following:*\n",
    "- *Takes as input a data frame*\n",
    "- *For each variable in the data frame calculates the following features:*\n",
    "  - *`number_nan` to count the number of missing not-a-number values*\n",
    "  - *Ignoring missing, NA, and Null values:*\n",
    "    - *`number_distinct` to count the number of distinct values a variable can take on*\n",
    "    - *`mean`, `max`, `min`, `std` (standard deviation), and `25%`, `50%`, `75%` to correspond to the appropriate percentiles*\n",
    "- *All of these new features should be loaded in a new data frame. Each row of the data frame should be a variable from the input data frame, and the columns should be the new summary features.*\n",
    "- Returns this new data frame containing all of the summary information\n",
    ">>**Hint:** *The pandas `describe()` [(manual page)](http://pandas.pydata.org/pandas-docs/stable/generated/pandas.DataFrame.describe.html) method returns a useful series of values that can be used here.*\n",
    "\n"
   ]
  },
  {
   "cell_type": "code",
   "execution_count": 7,
   "metadata": {
    "id": "uzQUyVkkbLvn"
   },
   "outputs": [],
   "source": [
    "def getDfSummary(input_data):\n",
    "    # Place your code here\n",
    "    \n",
    "    # isna() returns true if the value is NsN and summing them all in each column to get the count\n",
    "    number_nan = input_data.isna().sum(axis = 0)\n",
    "    \n",
    "    # nunique with axis=0, returns the distinct values in each column\n",
    "    number_distinct = input_data.nunique(axis = 0)\n",
    "\n",
    "    # get the stats of each column\n",
    "    stats = input_data.describe()\n",
    "\n",
    "    # building the desired data frame\n",
    "    output_data = pd.concat([number_nan.rename('number_nan'), number_distinct.rename('number_distinct'), stats.loc['mean'], stats.loc['max'], stats.loc['min'], stats.loc['std'], stats.loc['25%'], stats.loc['50%'], stats.loc['75%']], axis=1)\n",
    "    return output_data"
   ]
  },
  {
   "cell_type": "markdown",
   "metadata": {
    "id": "ZqO-X3xBbLvn"
   },
   "source": [
    ">>**3**\\. **(1 Point)** *How long does it take for your `getDfSummary()` function to work on your `ads` data frame? Show us the results below.*\n",
    "\n",
    ">>**Hint:** *`%timeit getDfSummary(ads)`*\n",
    "\n"
   ]
  },
  {
   "cell_type": "code",
   "execution_count": 8,
   "metadata": {
    "id": "S2RhhAwjbLvo"
   },
   "outputs": [
    {
     "name": "stdout",
     "output_type": "stream",
     "text": [
      "17.2 ms ± 39.6 µs per loop (mean ± std. dev. of 7 runs, 100 loops each)\n"
     ]
    }
   ],
   "source": [
    "# Place your code here\n",
    "%timeit getDfSummary(ads)"
   ]
  },
  {
   "cell_type": "markdown",
   "metadata": {
    "id": "p-imGi3EbLvo"
   },
   "source": [
    ">>**4**\\. **(2 Points)** *Using the results returned from `getDfSummary()`, which fields, if any, contain missing `NaN` values?*\n",
    "\n",
    "\n"
   ]
  },
  {
   "cell_type": "code",
   "execution_count": 9,
   "metadata": {
    "id": "TD9vzCZ6bLvo"
   },
   "outputs": [
    {
     "name": "stdout",
     "output_type": "stream",
     "text": [
      "The following list of fields contain missing NaN values\n",
      "['video_freq']\n"
     ]
    }
   ],
   "source": [
    "# Place your code here\n",
    "\n",
    "# get the summary stats to result variable\n",
    "result = getDfSummary(ads)\n",
    "\n",
    "# extracting fields that contain missing NaN values\n",
    "temp = result[result['number_nan'] > 0]\n",
    "\n",
    "print(\"The following list of fields contain missing NaN values\")\n",
    "print(list(temp.index))"
   ]
  },
  {
   "cell_type": "markdown",
   "metadata": {
    "id": "Ir0uvV-gbLvo"
   },
   "source": [
    ">>**5**\\. **(4 Points)** *For the fields with missing values, does it look like the data is missing at random? Are there any other fields that correlate perfectly, or predict that the data is missing? If missing, what should the data value be?*\n",
    "\n",
    ">>**Hint:** *create another data frame that has just the records with a missing value. Get a summary of this data frame using `getDfSummary()` and compare the differences. Do some feature distributions change dramatically?*\n",
    "\n",
    ">>---\n",
    "\n"
   ]
  },
  {
   "cell_type": "code",
   "execution_count": 10,
   "metadata": {
    "id": "QcQhxXxBbLvo"
   },
   "outputs": [
    {
     "data": {
      "text/html": [
       "<div>\n",
       "<style scoped>\n",
       "    .dataframe tbody tr th:only-of-type {\n",
       "        vertical-align: middle;\n",
       "    }\n",
       "\n",
       "    .dataframe tbody tr th {\n",
       "        vertical-align: top;\n",
       "    }\n",
       "\n",
       "    .dataframe thead th {\n",
       "        text-align: right;\n",
       "    }\n",
       "</style>\n",
       "<table border=\"1\" class=\"dataframe\">\n",
       "  <thead>\n",
       "    <tr style=\"text-align: right;\">\n",
       "      <th></th>\n",
       "      <th>number_nan</th>\n",
       "      <th>number_distinct</th>\n",
       "      <th>mean</th>\n",
       "      <th>max</th>\n",
       "      <th>min</th>\n",
       "      <th>std</th>\n",
       "      <th>25%</th>\n",
       "      <th>50%</th>\n",
       "      <th>75%</th>\n",
       "    </tr>\n",
       "  </thead>\n",
       "  <tbody>\n",
       "    <tr>\n",
       "      <th>is_video_user</th>\n",
       "      <td>0</td>\n",
       "      <td>1</td>\n",
       "      <td>0.0</td>\n",
       "      <td>0.0</td>\n",
       "      <td>0.0</td>\n",
       "      <td>0.0</td>\n",
       "      <td>0.0</td>\n",
       "      <td>0.0</td>\n",
       "      <td>0.0</td>\n",
       "    </tr>\n",
       "    <tr>\n",
       "      <th>video_interval</th>\n",
       "      <td>0</td>\n",
       "      <td>1</td>\n",
       "      <td>0.0</td>\n",
       "      <td>0.0</td>\n",
       "      <td>0.0</td>\n",
       "      <td>0.0</td>\n",
       "      <td>0.0</td>\n",
       "      <td>0.0</td>\n",
       "      <td>0.0</td>\n",
       "    </tr>\n",
       "    <tr>\n",
       "      <th>expected_video_time</th>\n",
       "      <td>0</td>\n",
       "      <td>1</td>\n",
       "      <td>0.0</td>\n",
       "      <td>0.0</td>\n",
       "      <td>0.0</td>\n",
       "      <td>0.0</td>\n",
       "      <td>0.0</td>\n",
       "      <td>0.0</td>\n",
       "      <td>0.0</td>\n",
       "    </tr>\n",
       "    <tr>\n",
       "      <th>multiple_video</th>\n",
       "      <td>0</td>\n",
       "      <td>1</td>\n",
       "      <td>0.0</td>\n",
       "      <td>0.0</td>\n",
       "      <td>0.0</td>\n",
       "      <td>0.0</td>\n",
       "      <td>0.0</td>\n",
       "      <td>0.0</td>\n",
       "      <td>0.0</td>\n",
       "    </tr>\n",
       "  </tbody>\n",
       "</table>\n",
       "</div>"
      ],
      "text/plain": [
       "                     number_nan  number_distinct  mean  max  min  std  25%  \\\n",
       "is_video_user                 0                1   0.0  0.0  0.0  0.0  0.0   \n",
       "video_interval                0                1   0.0  0.0  0.0  0.0  0.0   \n",
       "expected_video_time           0                1   0.0  0.0  0.0  0.0  0.0   \n",
       "multiple_video                0                1   0.0  0.0  0.0  0.0  0.0   \n",
       "\n",
       "                     50%  75%  \n",
       "is_video_user        0.0  0.0  \n",
       "video_interval       0.0  0.0  \n",
       "expected_video_time  0.0  0.0  \n",
       "multiple_video       0.0  0.0  "
      ]
     },
     "metadata": {},
     "output_type": "display_data"
    },
    {
     "name": "stdout",
     "output_type": "stream",
     "text": [
      "Observations/Responses:\n",
      "1) No, the data in 'video_freq' field is not missing at random\n",
      "2) As you can see these 4 fields ['is_video_user', 'video_interval', 'expected_video_time', 'multiple_video'] correlate perfectly with 'video_freq' field whenever it is missing\n",
      "3) For each instance the filed 'video_freq' is missing the value of each of these 4 fields is 0.0\n",
      "4) If the 'video_freq' field is missing, we can predict that the values each of these four fields will be 0.0\n",
      "5) You can also see there is no record/instance where each of the ['is_video_user', 'video_interval', 'expected_video_time', 'multiple_video'] is 0 and 'video_freq' is not null\n",
      "Data frame shape: (0, 14)\n",
      "6) Whenever each of these fields ['is_video_user', 'video_interval', 'expected_video_time', 'multiple_video'] is 0 the the value of 'video_freq' will be missin\n"
     ]
    }
   ],
   "source": [
    "# Place your code and response here\n",
    "\n",
    "# extracting records/instances which have video_freq as NaN\n",
    "temp_df = ads[ads['video_freq'].isna() == True]\n",
    "\n",
    "# getting summary stats of only those records\n",
    "temp_df_summary = getDfSummary(temp_df)\n",
    "\n",
    "# finding fields that take only one value of the video_freq is NaN\n",
    "temp_correlation = temp_df_summary[temp_df_summary['number_distinct']==1]\n",
    "display(temp_correlation)\n",
    "\n",
    "print(\"Observations/Responses:\")\n",
    "print(\"1) No, the data in 'video_freq' field is not missing at random\")\n",
    "print(\"2) As you can see these 4 fields \" + str(list(temp_correlation.index)) + \" correlate perfectly with 'video_freq' field whenever it is missing\")\n",
    "print(\"3) For each instance the filed 'video_freq' is missing the value of each of these 4 fields is 0.0\")\n",
    "print(\"4) If the 'video_freq' field is missing, we can predict that the values each of these four fields will be 0.0\")\n",
    "print(\"5) You can also see there is no record/instance where each of the \" + str(list(temp_correlation.index)) + \" is 0 and 'video_freq' is not null\")\n",
    "\n",
    "\n",
    "# gettting the records which have ['is_video_user', 'video_interval', 'expected_video_time', 'multiple_video'] as 0 and  'video_freq' is not NaN\n",
    "temp_df1 = ads[(ads['is_video_user'] == 0) & (ads['video_interval'] == 0) & (ads['expected_video_time'] == 0) & (ads['multiple_video'] == 0) & (ads['video_freq'].isna() == False)]\n",
    "\n",
    "print(\"Data frame shape: \" + str(temp_df1.shape))\n",
    "print(\"6) Whenever each of these fields \" + str(list(temp_correlation.index)) + \" is 0 the the value of 'video_freq' will be missin\")"
   ]
  },
  {
   "cell_type": "markdown",
   "metadata": {
    "id": "yc1BQexKbLvo"
   },
   "source": [
    ">>**6**\\. (**2 Points)** *Which variables are binary?*\n",
    "\n",
    "\n"
   ]
  },
  {
   "cell_type": "code",
   "execution_count": 11,
   "metadata": {
    "id": "r9TsiNgZbLvp"
   },
   "outputs": [
    {
     "name": "stdout",
     "output_type": "stream",
     "text": [
      "The following list of fields are binary\n",
      "['is_video_user', 'multiple_video', 'multiple_carrier', 'is_churn']\n"
     ]
    }
   ],
   "source": [
    "# Place your code here\n",
    "print(\"The following list of fields are binary\")\n",
    "print(list(ads.columns[ads.isin([0,1]).all()]))"
   ]
  },
  {
   "cell_type": "markdown",
   "metadata": {
    "id": "ufgrdnbUbLvp"
   },
   "source": [
    ">>**7**\\. **(0.5 Point)** *Let's take a deeper look into one of the features, the `num_texts`, which stands for the number of text messages. Let's try and understand the distribution of this field. We can do this using the hist() method and matplotlib. Draw a histogram graph of `num_texts` from the dataframe `ads`, set the title of the graph as `'Histogram of Number of Texts'`.*"
   ]
  },
  {
   "cell_type": "code",
   "execution_count": 12,
   "metadata": {
    "id": "eAylkv_KbLvp"
   },
   "outputs": [
    {
     "data": {
      "image/png": "[encoded data removed]",
      "text/plain": [
       "<Figure size 640x480 with 1 Axes>"
      ]
     },
     "metadata": {},
     "output_type": "display_data"
    }
   ],
   "source": [
    "# Place your code here\n",
    "# bins =100\n",
    "hist = ads.hist('num_texts',bins =100)\n",
    "title = plt.title('Histogram of Number of Texts')"
   ]
  },
  {
   "cell_type": "markdown",
   "metadata": {
    "id": "1HATKInIbLvp"
   },
   "source": [
    ">>**8**\\. **(1.5 Point)** *How would you characterize the shape of this distribution? Is there anything we can do to the texts variable to make the distribution more bell curved?*\n",
    "\n",
    ">>**Hint:** *Let's create a new column in the dataframe called `'log_num_texts'` and print a histogram `'Histogram of Log(Num Texts)'` of it. What might be some advantages of making such a transformation?*"
   ]
  },
  {
   "cell_type": "code",
   "execution_count": 13,
   "metadata": {
    "id": "M44w3jNLbLvp"
   },
   "outputs": [
    {
     "name": "stdout",
     "output_type": "stream",
     "text": [
      "1) Histogram of Number of Texts distribution can be characterized as an exponential distribution\n",
      "2) So if we apply a logarithmic transformation to an exponential distribution variable, we will get variable with normal distribution (bell curve)\n",
      "3) Histogram of Log(Num Texts) is more bell-curved\n",
      "4) By making the log transformation, we can work in variable with normal distribution\n",
      "5) Working with normal distribution is more convenient because it is symmetric, 95% of data contains in 2*standard deviation form mean, it depicts the distribution of values of many natural phenomena\n"
     ]
    },
    {
     "data": {
      "image/png": "[encoded data removed]",
      "text/plain": [
       "<Figure size 640x480 with 1 Axes>"
      ]
     },
     "metadata": {},
     "output_type": "display_data"
    }
   ],
   "source": [
    "# Place your code and response here\n",
    "\n",
    "#response\n",
    "print(\"1) Histogram of Number of Texts distribution can be characterized as an exponential distribution\")\n",
    "print(\"2) So if we apply a logarithmic transformation to an exponential distribution variable, we will get variable with normal distribution (bell curve)\")\n",
    "print(\"3) Histogram of Log(Num Texts) is more bell-curved\") \n",
    "\n",
    "\n",
    "ads[\"log_num_texts\"] = np.log(ads[\"num_texts\"])\n",
    "\n",
    "#bins = 100\n",
    "hist = ads.hist('log_num_texts',bins=100)\n",
    "title = plt.title('Histogram of Log(Num Texts)')\n",
    "print(\"4) By making the log transformation, we can work in variable with normal distribution\")\n",
    "print(\"5) Working with normal distribution is more convenient because it is symmetric, 95% of data contains in 2*standard deviation form mean, it depicts the distribution of values of many natural phenomena\")"
   ]
  },
  {
   "cell_type": "markdown",
   "metadata": {
    "id": "PF884TNzbLvp"
   },
   "source": [
    "##  **End of Homework 0**"
   ]
  }
 ],
 "metadata": {
  "anaconda-cloud": {},
  "colab": {
   "provenance": []
  },
  "kernelspec": {
   "display_name": "Python 3 (ipykernel)",
   "language": "python",
   "name": "python3"
  },
  "language_info": {
   "codemirror_mode": {
    "name": "ipython",
    "version": 3
   },
   "file_extension": ".py",
   "mimetype": "text/x-python",
   "name": "python",
   "nbconvert_exporter": "python",
   "pygments_lexer": "ipython3",
   "version": "3.11.4"
  }
 },
 "nbformat": 4,
 "nbformat_minor": 4
}
