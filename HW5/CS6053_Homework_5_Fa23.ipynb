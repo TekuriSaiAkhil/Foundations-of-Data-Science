{
 "cells": [
  {
   "cell_type": "markdown",
   "metadata": {
    "id": "PolFe8GQqhFD"
   },
   "source": [
    "# Foundations of Data Science\n",
    "## Homework 5: Algorithmic fairness"
   ]
  },
  {
   "cell_type": "markdown",
   "metadata": {
    "id": "_LlRkZpuqhFF"
   },
   "source": [
    "Student Name: Tekuri Sai Akhil\n",
    "\n",
    "Student Id: st5050\n",
    "\n",
    "***"
   ]
  },
  {
   "cell_type": "markdown",
   "metadata": {
    "id": "eTrbgxPwqhFG"
   },
   "source": [
    "### Part 1: Algorithmic fairness (15 points)\n"
   ]
  },
  {
   "cell_type": "markdown",
   "metadata": {
    "id": "fZ_ksbx1qhFG"
   },
   "source": [
    "#### Data acquisition and preparation (5 points)\n",
    "\n",
    "For this question we will use the \"Adult.data\" dataset from the UC Irvine repository.\n",
    "\n",
    "This data is from the United States census, and we will examine the algorithmic fairness for an income prediction task. For more information about the dataset, see [Here](https://archive.ics.uci.edu/ml/datasets/adult).\n"
   ]
  },
  {
   "cell_type": "markdown",
   "metadata": {
    "id": "bPrkBq0QqhFG"
   },
   "source": [
    "1\\. Download the data. (1 point)\n",
    "\n",
    "Load data from the URL using the pandas read_csv method."
   ]
  },
  {
   "cell_type": "code",
   "execution_count": 1,
   "metadata": {
    "id": "eo3T8WthqhFH",
    "scrolled": true
   },
   "outputs": [],
   "source": [
    "#Place code here\n",
    "import numpy as np\n",
    "import pandas as pd\n",
    "\n",
    "# import data from csv\n",
    "df = pd.read_csv(\"adult/adult.data\", header=None)"
   ]
  },
  {
   "cell_type": "markdown",
   "metadata": {
    "id": "uWv9MhmBqhFH"
   },
   "source": [
    "2\\. If the column headers are not correct, assign names to them (hint: use the readme from the source website). Compute descriptive statistics for the education level. (2 points)."
   ]
  },
  {
   "cell_type": "code",
   "execution_count": 2,
   "metadata": {
    "id": "8w0YKpAaqhFI"
   },
   "outputs": [
    {
     "name": "stdout",
     "output_type": "stream",
     "text": [
      "Descriptive statistics for the education level\n",
      "count        32561\n",
      "unique          16\n",
      "top        HS-grad\n",
      "freq         10501\n",
      "Name: education, dtype: object\n",
      "\n",
      "Descriptive statistics for the education number\n",
      "count    32561.000000\n",
      "mean        10.080679\n",
      "std          2.572720\n",
      "min          1.000000\n",
      "25%          9.000000\n",
      "50%         10.000000\n",
      "75%         12.000000\n",
      "max         16.000000\n",
      "Name: education-num, dtype: float64\n"
     ]
    }
   ],
   "source": [
    "#Place code here\n",
    "\n",
    "# Add column names\n",
    "df.columns = [\"age\", \"workclass\", \"fnlwgt\", \"education\", \"education-num\", \"marital-status\", \"occupation\", \"relationship\", \"race\", \"sex\",\"capital-gain\",\"capital-loss\",\"hours-per-week\",\"native-country\",\"income\"]\n",
    "\n",
    "print(\"Descriptive statistics for the education level\")\n",
    "print(df[\"education\"].describe(include='object'))\n",
    "\n",
    "\n",
    "print(\"\\nDescriptive statistics for the education number\")\n",
    "print(df[\"education-num\"].describe())"
   ]
  },
  {
   "cell_type": "markdown",
   "metadata": {
    "id": "DzW72jtgqhFI"
   },
   "source": [
    "3\\. Select one attribute as protected. Explain the reason why you selected this attribute. (1 point)\n",
    "\n",
    "Protected attributes require the prefix protected. The outcome attribute requires the prefix target. For example, if you need to measure fairness rankings of a dataset with the columns sex and credit_score, rename the columns to protected_sex and target_credit_Score. Update the column names for our dataset (hint: you may also have to convert the target to a binary variable and create dummy variables for those that are categorical, for upcoming steps). (1 point)."
   ]
  },
  {
   "cell_type": "code",
   "execution_count": 3,
   "metadata": {},
   "outputs": [
    {
     "name": "stdout",
     "output_type": "stream",
     "text": [
      "I've selected attribute 'sex' as the protected attribute, because amoung all the attributes I think attribute 'sex' may cause/induce algorithemic bias and i want to verify that\n"
     ]
    }
   ],
   "source": [
    "# choose and rename protected feature and target feature\n",
    "df.rename(columns={'sex':'protected_sex','income':\"target_income\" }, inplace=True)\n",
    "df['target_income'] = np.where(df['target_income'].astype('string') == \" <=50K\", 0,1)\n",
    "\n",
    "# dummy variables for categorical features\n",
    "cate_encoded = pd.get_dummies(df[['protected_sex','workclass','education','marital-status','occupation','relationship','native-country','race']])\n",
    "df = df.drop(['protected_sex','workclass','education','marital-status','occupation','relationship','native-country','race'],axis=1)\n",
    "df = pd.concat([df, cate_encoded], axis = 1)\n",
    "\n",
    "print(\"I've selected attribute 'sex' as the protected attribute, because amoung all the attributes I think attribute 'sex' may cause/induce algorithemic bias and i want to verify that\")"
   ]
  },
  {
   "cell_type": "markdown",
   "metadata": {
    "id": "5AJEeLM3qhFI"
   },
   "source": [
    "#### Build a Classifier (5 points)\n",
    "\n",
    "4\\. Select a type of classifier to build for the income prediction task. Give reasoning for why you picked this type. (1 point)"
   ]
  },
  {
   "cell_type": "markdown",
   "metadata": {
    "id": "xafdEVUhqhFI"
   },
   "source": [
    "$\\color{blue}{\\text{ Place your answer here.}}$\n",
    "\n",
    "1. I've picked DecisionTreeClassifier for this prediction task because it is easy to interpret and we don't need to do any feature selection."
   ]
  },
  {
   "cell_type": "markdown",
   "metadata": {
    "id": "Ug-z4UtsqhFI"
   },
   "source": [
    "5\\. Split the data into training and testing. Use pandas to create two data frames: train_df and test_df, where train_df has 80% of the data chosen uniformly at random without replacement (test_df should have the other 20%). Also, make sure to write your own code to do the splits. You may use any random() function numpy but do not use the data splitting functions from Sklearn. (1 point)\n"
   ]
  },
  {
   "cell_type": "code",
   "execution_count": 4,
   "metadata": {
    "id": "57Gvo-CLqhFI"
   },
   "outputs": [],
   "source": [
    "#Place code here\n",
    "n = df.shape[0]\n",
    "\n",
    "np.random.seed(42)\n",
    "\n",
    "# generate 20% test indexes\n",
    "test_index = []\n",
    "while len(test_index) < 0.2*n:\n",
    "    new_index = np.random.randint(0,n)\n",
    "    if new_index not in test_index:\n",
    "        test_index.append(new_index)\n",
    "\n",
    "# Split train(80%) and test(20%)\n",
    "train_df = df[~df.index.isin(test_index)]\n",
    "test_df = df[df.index.isin(test_index)]\n",
    "\n",
    "\n",
    "X_train, Y_train = train_df.drop(['target_income'],axis=1), train_df['target_income']\n",
    "X_test, Y_test = test_df.drop(['target_income'],axis=1), test_df['target_income']"
   ]
  },
  {
   "cell_type": "markdown",
   "metadata": {
    "id": "FDo8HGSVqhFJ"
   },
   "source": [
    "6\\. On the training set, implement your classifier. Give reasoning for your choice of any hyperparameter(s). (1 point)"
   ]
  },
  {
   "cell_type": "code",
   "execution_count": 5,
   "metadata": {
    "id": "35vizJXbqhFJ"
   },
   "outputs": [
    {
     "name": "stdout",
     "output_type": "stream",
     "text": [
      "I've set max_depth = 4 to avoid overfitting\n"
     ]
    }
   ],
   "source": [
    "#Place code here\n",
    "\n",
    "# Implement DecisionTreeClassifier\n",
    "from sklearn.tree import DecisionTreeClassifier\n",
    "dtree = DecisionTreeClassifier(max_depth=4,random_state=42).fit(X_train,Y_train)\n",
    "print(\"I've set max_depth = 4 to avoid overfitting\")"
   ]
  },
  {
   "cell_type": "markdown",
   "metadata": {
    "id": "ETsYTrEAqhFJ"
   },
   "source": [
    "7\\. To demonstrate the performance of your classifier, we will now plot the AUROC. Below are two functions which you can use. What you need to add is code to plot the AUROC for all the data and as well for each value of the protected attribute (on one set of axes). (2 points)"
   ]
  },
  {
   "cell_type": "code",
   "execution_count": 6,
   "metadata": {
    "id": "o0I8dyzaqhFJ"
   },
   "outputs": [
    {
     "data": {
      "image/png": "[encoded data removed]",
      "text/plain": [
       "<Figure size 640x480 with 1 Axes>"
      ]
     },
     "metadata": {},
     "output_type": "display_data"
    }
   ],
   "source": [
    "#Code for computing the AUCROC\n",
    "\n",
    "from sklearn.metrics import roc_auc_score, roc_curve, auc\n",
    "import matplotlib.pyplot as plt\n",
    "\n",
    "def getAUC(truth, pred):\n",
    "    fpr, tpr, thresholds = roc_curve(truth, pred)\n",
    "    return auc(fpr, tpr)\n",
    "\n",
    "\n",
    "def plotAUC(truth, pred, lab):\n",
    "    fpr, tpr, thresholds = roc_curve(truth, pred)\n",
    "    roc_auc = auc(fpr, tpr)\n",
    "    c = (np.random.rand(), np.random.rand(), np.random.rand())\n",
    "    plt.plot(fpr, tpr, color=c, label= lab+' (AUC = %0.2f)' % roc_auc)\n",
    "    plt.plot([0, 1], [0, 1], 'k--')\n",
    "    plt.xlim([0.0, 1.0])\n",
    "    plt.ylim([0.0, 1.0])\n",
    "    plt.xlabel('FPR')\n",
    "    plt.ylabel('TPR')\n",
    "    plt.title('ROC')\n",
    "    plt.legend(loc=\"lower right\")\n",
    "\n",
    "#Add code below to subset rows by protected attribute\n",
    "Y_pred = dtree.predict_proba(X_test)[:, 1]\n",
    "\n",
    "# protected_sex = ' Female'\n",
    "X_test_Female = X_test[X_test['protected_sex_ Female']==1]\n",
    "Y_test_Female = Y_test[X_test[X_test['protected_sex_ Female']==1].index]\n",
    "Y_pred_Female = dtree.predict_proba(X_test_Female)[:, 1]\n",
    "\n",
    "# protected_sex = ' Male'\n",
    "X_test_Male = X_test[X_test['protected_sex_ Male']==1]\n",
    "Y_test_Male = Y_test[X_test[X_test['protected_sex_ Male']==1].index]\n",
    "Y_pred_Male = dtree.predict_proba(X_test_Male)[:, 1]\n",
    "\n",
    "#Add code below to make the plot\n",
    "plotAUC(Y_test, Y_pred, \"All data\")\n",
    "plotAUC(Y_test_Female, Y_pred_Female, \"Female\")\n",
    "plotAUC(Y_test_Male, Y_pred_Male, \"Male\")"
   ]
  },
  {
   "cell_type": "markdown",
   "metadata": {
    "id": "0AzRqWq0qhFJ"
   },
   "source": [
    "#### Assessing algorithmic fairness (5 points)\n",
    "\n",
    "8\\. Algorithmic Fairness metrics (2 points)\n",
    "\n",
    "Pick a fairness metric to apply to the income prediction task and your selected protected attribute. Explain why you selected this metric."
   ]
  },
  {
   "cell_type": "markdown",
   "metadata": {
    "id": "bV-xH4L-qhFJ"
   },
   "source": [
    "$\\color{blue}{\\text{ Place your answer here.}}$\n",
    "1. Equality of opportunity\n",
    "2. Equal Opportunity requires the positive outcome to be independent of the protected class 'protected_sex', conditional on Y 'targer_incomce' being an actual positive\n",
    "3. Equality of opportunity measured as True Positive Rate (TPR)\n",
    "4. Based on the confusion matrix, we require the True Positive Rate (TPR) to be the same for each segment of the protected class"
   ]
  },
  {
   "cell_type": "markdown",
   "metadata": {
    "id": "dPo8FVm7qhFJ"
   },
   "source": [
    "9\\. Compute the chosen metric for your protected attribute. Hint: this will require you to first find the threshold wiith the best when predicting on the entire data, and then computing the TPR/FPR or other necessary parameters at that threshold for each value of the protected attribute. (2 points)\n",
    "\n",
    "There are many ways we could locate the threshold with the optimal balance between the false positive rate (FPR) and true positive rate (TPR).\n",
    "\n",
    "As a reminder, the TPR is called the Sensitivity. The inverse of the false-positive rate (1-FPR) is called the Specificity.\n",
    "\n",
    "<center>Sensitivity = $\\frac{TP}{TP + FN}$\n",
    "Specificity = $\\frac{TN}{FP + TN}$</center>\n",
    "\n",
    "where:\n",
    "\n",
    "<center>Sensitivity = TPR and Specificity = 1 – FPR</center>\n",
    "\n",
    "The Geometric Mean or g-mean is a metric for imbalanced classification that, if optimized, will seek a balance between the sensitivity and the specificity.\n",
    "\n",
    "<center>g-mean = $\\sqrt{Sensitivity * Specificity}$ </center>\n",
    "\n"
   ]
  },
  {
   "cell_type": "code",
   "execution_count": 7,
   "metadata": {
    "id": "IFSSrIjvqhFK"
   },
   "outputs": [
    {
     "name": "stdout",
     "output_type": "stream",
     "text": [
      "Equality of opportunity for all = 0.8701464035646085\n",
      "Equality of opportunity for Female = 0.7298387096774194\n",
      "Equality of opportunity for Male = 0.8964474678760394\n"
     ]
    }
   ],
   "source": [
    "#Place code here\n",
    "from sklearn.metrics import confusion_matrix\n",
    "\n",
    "fpr, tpr, thresholds = roc_curve(Y_test, Y_pred)\n",
    "\n",
    "# calculate optimal threshold\n",
    "sensitivity = tpr\n",
    "specificity = 1-fpr\n",
    "g_mean = np.sqrt(sensitivity*specificity)\n",
    "index = np.argmax(g_mean)\n",
    "best_threshold = thresholds[index]\n",
    "\n",
    "# predict classes based in optimal threshold\n",
    "Y_pred = np.where(Y_pred>best_threshold,1,0)\n",
    "Y_pred_Female = np.where(Y_pred_Female>best_threshold,1,0)\n",
    "Y_pred_Male = np.where(Y_pred_Male>best_threshold,1,0)\n",
    "\n",
    "# confusion matrix\n",
    "cf_all = confusion_matrix(Y_test, Y_pred)\n",
    "cf_Female = confusion_matrix(Y_test_Female, Y_pred_Female)\n",
    "cf_Male = confusion_matrix(Y_test_Male, Y_pred_Male)\n",
    "\n",
    "# calculate Equality of opportunity(EOO) = True Positive Rate (TPR)\n",
    "EOO_all = (1.0*cf_all[1,1])/(cf_all[1,1]+cf_all[1,0])\n",
    "EOO_Female = (1.0*cf_Female[1,1])/(cf_Female[1,1]+cf_Female[1,0])\n",
    "EOO_Male = (1.0*cf_Male[1,1])/(cf_Male[1,1]+cf_Male[1,0])\n",
    "\n",
    "\n",
    "print(\"Equality of opportunity for all = \"+str(EOO_all))\n",
    "print(\"Equality of opportunity for Female = \"+str(EOO_Female))\n",
    "print(\"Equality of opportunity for Male = \"+str(EOO_Male))"
   ]
  },
  {
   "cell_type": "markdown",
   "metadata": {
    "id": "YpHbXceVqhFK"
   },
   "source": [
    "10\\. Is there a disparity? How can we interpret its magnitude? Is such a disparity a bad thing/avoidable? (1 point)"
   ]
  },
  {
   "cell_type": "markdown",
   "metadata": {
    "id": "rY0-cGaIqhFL"
   },
   "source": [
    "$\\color{blue}{\\text{ Place your answer here.}}$\n",
    "\n",
    "1. Disparity in the Equality of opportunity metrics between male and female can be observed here\n",
    "    1. Equality of opportunity for all = 0.8701464035646085\n",
    "    2. Equality of opportunity for Female = 0.7298387096774194\n",
    "    3. Equality of opportunity for Male = 0.8964474678760394\n",
    "2. \"EOO for Female < EOO for Male\", 0.17 difference in magnitude (EOO means Equality of opportunity)\n",
    "3. This means if we take 100 males and 100 females, 89 males have income >500K and 72 females have incomde >500K. We can clearly see the disparity here.\n",
    "4. Yes, such a disparity is a bad thing.\n",
    "5. This disparity is coming from the data. If we want to avoid it we need to have unbiased data to begin with."
   ]
  }
 ],
 "metadata": {
  "colab": {
   "provenance": []
  },
  "kernelspec": {
   "display_name": "Python 3 (ipykernel)",
   "language": "python",
   "name": "python3"
  },
  "language_info": {
   "codemirror_mode": {
    "name": "ipython",
    "version": 3
   },
   "file_extension": ".py",
   "mimetype": "text/x-python",
   "name": "python",
   "nbconvert_exporter": "python",
   "pygments_lexer": "ipython3",
   "version": "3.11.4"
  }
 },
 "nbformat": 4,
 "nbformat_minor": 1
}
