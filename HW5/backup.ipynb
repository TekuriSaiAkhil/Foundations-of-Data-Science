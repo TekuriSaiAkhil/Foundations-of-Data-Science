{
 "cells": [
  {
   "cell_type": "markdown",
   "metadata": {
    "id": "PolFe8GQqhFD"
   },
   "source": [
    "# Foundations of Data Science\n",
    "## Homework 5: Algorithmic fairness"
   ]
  },
  {
   "cell_type": "markdown",
   "metadata": {
    "id": "_LlRkZpuqhFF"
   },
   "source": [
    "Student Name: Tekuri Sai Akhil\n",
    "\n",
    "Student Id: st5050\n",
    "\n",
    "***"
   ]
  },
  {
   "cell_type": "markdown",
   "metadata": {
    "id": "eTrbgxPwqhFG"
   },
   "source": [
    "### Part 1: Algorithmic fairness (15 points)\n"
   ]
  },
  {
   "cell_type": "markdown",
   "metadata": {
    "id": "fZ_ksbx1qhFG"
   },
   "source": [
    "#### Data acquisition and preparation (5 points)\n",
    "\n",
    "For this question we will use the \"Adult.data\" dataset from the UC Irvine repository.\n",
    "\n",
    "This data is from the United States census, and we will examine the algorithmic fairness for an income prediction task. For more information about the dataset, see [Here](https://archive.ics.uci.edu/ml/datasets/adult).\n"
   ]
  },
  {
   "cell_type": "markdown",
   "metadata": {
    "id": "bPrkBq0QqhFG"
   },
   "source": [
    "1\\. Download the data. (1 point)\n",
    "\n",
    "Load data from the URL using the pandas read_csv method."
   ]
  },
  {
   "cell_type": "code",
   "execution_count": 1,
   "metadata": {
    "id": "eo3T8WthqhFH",
    "scrolled": true
   },
   "outputs": [],
   "source": [
    "#Place code here\n",
    "import numpy as np\n",
    "import pandas as pd\n",
    "df = pd.read_csv(\"adult/adult.data\", header=None)"
   ]
  },
  {
   "cell_type": "markdown",
   "metadata": {
    "id": "uWv9MhmBqhFH"
   },
   "source": [
    "2\\. If the column headers are not correct, assign names to them (hint: use the readme from the source website). Compute descriptive statistics for the education level. (2 points)."
   ]
  },
  {
   "cell_type": "code",
   "execution_count": 2,
   "metadata": {
    "id": "8w0YKpAaqhFI"
   },
   "outputs": [
    {
     "name": "stdout",
     "output_type": "stream",
     "text": [
      "count        32561\n",
      "unique          16\n",
      "top        HS-grad\n",
      "freq         10501\n",
      "Name: education, dtype: object\n"
     ]
    }
   ],
   "source": [
    "#Place code here\n",
    "df.columns = [\"age\", \"workclass\", \"fnlwgt\", \"education\", \"education-num\", \"marital-status\", \"occupation\", \"relationship\", \"race\", \"sex\",\"capital-gain\",\"capital-loss\",\"hours-per-week\",\"native-country\",\"income\"]\n",
    "print(df[\"education\"].describe(include='object'))"
   ]
  },
  {
   "cell_type": "markdown",
   "metadata": {
    "id": "DzW72jtgqhFI"
   },
   "source": [
    "3\\. Select one attribute as protected. Explain the reason why you selected this attribute. (1 point)\n",
    "\n",
    "Protected attributes require the prefix protected. The outcome attribute requires the prefix target. For example, if you need to measure fairness rankings of a dataset with the columns sex and credit_score, rename the columns to protected_sex and target_credit_Score. Update the column names for our dataset (hint: you may also have to convert the target to a binary variable and create dummy variables for those that are categorical, for upcoming steps). (1 point)."
   ]
  },
  {
   "cell_type": "code",
   "execution_count": 3,
   "metadata": {
    "id": "PtX2hGMuqhFI"
   },
   "outputs": [],
   "source": [
    "#Place code here\n",
    "df.rename(columns={'race':'protected_race','income':\"target_income\" }, inplace=True)\n",
    "df['target_income'] = np.where(df['target_income'].astype('string') == \" <=50K\", 0,1)\n",
    "\n",
    "from sklearn import preprocessing\n",
    "encoder = preprocessing.LabelEncoder()\n",
    "df['workclass'] = encoder.fit_transform(df['workclass'])\n",
    "df['education'] = encoder.fit_transform(df['education'])\n",
    "df['marital-status'] = encoder.fit_transform(df['marital-status'])\n",
    "df['occupation'] = encoder.fit_transform(df['occupation'])\n",
    "df['relationship'] = encoder.fit_transform(df['relationship'])\n",
    "df['protected_race'] = encoder.fit_transform(df['protected_race'])\n",
    "df['sex'] = encoder.fit_transform(df['sex'])\n",
    "df['native-country'] = encoder.fit_transform(df['native-country'])"
   ]
  },
  {
   "cell_type": "markdown",
   "metadata": {
    "id": "5AJEeLM3qhFI"
   },
   "source": [
    "#### Build a Classifier (5 points)\n",
    "\n",
    "4\\. Select a type of classifier to build for the income prediction task. Give reasoning for why you picked this type. (1 point)"
   ]
  },
  {
   "cell_type": "markdown",
   "metadata": {
    "id": "xafdEVUhqhFI"
   },
   "source": [
    "$\\color{blue}{\\text{ Place your answer here.}}$\n",
    "1. Desicion tree classifer"
   ]
  },
  {
   "cell_type": "markdown",
   "metadata": {
    "id": "Ug-z4UtsqhFI"
   },
   "source": [
    "5\\. Split the data into training and testing. Use pandas to create two data frames: train_df and test_df, where train_df has 80% of the data chosen uniformly at random without replacement (test_df should have the other 20%). Also, make sure to write your own code to do the splits. You may use any random() function numpy but do not use the data splitting functions from Sklearn. (1 point)\n"
   ]
  },
  {
   "cell_type": "code",
   "execution_count": 4,
   "metadata": {},
   "outputs": [
    {
     "name": "stdout",
     "output_type": "stream",
     "text": [
      "Complete dataframe shape: (32561, 15)\n",
      "Train dataframe shape: (26048, 15)\n",
      "Test dataframe shape: (6513, 15)\n"
     ]
    }
   ],
   "source": [
    "n = df.shape[0]\n",
    "\n",
    "np.random.seed(42)\n",
    "\n",
    "test_index = []\n",
    "while len(test_index) < 0.2*n:\n",
    "    new_index = np.random.randint(0,n)\n",
    "    if new_index not in test_index:\n",
    "        test_index.append(new_index)\n",
    "\n",
    "train_df = df[~df.index.isin(test_index)]\n",
    "test_df = df[df.index.isin(test_index)]\n",
    "\n",
    "print(\"Complete dataframe shape: \"+ str(df.shape))\n",
    "print(\"Train dataframe shape: \"+ str(train_df.shape))\n",
    "print(\"Test dataframe shape: \"+ str(test_df.shape))\n",
    "\n",
    "X_train, Y_train = train_df.iloc[:,:14], train_df.iloc[:,14]\n",
    "X_test, Y_test = test_df.iloc[:,:14], test_df.iloc[:,14]"
   ]
  },
  {
   "cell_type": "code",
   "execution_count": 5,
   "metadata": {},
   "outputs": [
    {
     "data": {
      "text/plain": [
       "9        1\n",
       "11       1\n",
       "13       0\n",
       "16       0\n",
       "24       0\n",
       "        ..\n",
       "32537    0\n",
       "32542    0\n",
       "32550    0\n",
       "32554    1\n",
       "32556    0\n",
       "Name: target_income, Length: 6513, dtype: int64"
      ]
     },
     "execution_count": 5,
     "metadata": {},
     "output_type": "execute_result"
    }
   ],
   "source": [
    "Y_test"
   ]
  },
  {
   "cell_type": "markdown",
   "metadata": {
    "id": "FDo8HGSVqhFJ"
   },
   "source": [
    "6\\. On the training set, implement your classifier. Give reasoning for your choice of any hyperparameter(s). (1 point)"
   ]
  },
  {
   "cell_type": "code",
   "execution_count": 6,
   "metadata": {
    "id": "35vizJXbqhFJ"
   },
   "outputs": [],
   "source": [
    "#Place code here\n",
    "# from sklearn.tree import DecisionTreeClassifier\n",
    "# des_tree = DecisionTreeClassifier(criterion='entropy')\n",
    "# des_tree.fit(X_train,Y_train)\n",
    "from sklearn.linear_model import LogisticRegression\n",
    "log_reg = LogisticRegression(random_state=42).fit(X_train,Y_train)"
   ]
  },
  {
   "cell_type": "markdown",
   "metadata": {
    "id": "ETsYTrEAqhFJ"
   },
   "source": [
    "7\\. To demonstrate the performance of your classifier, we will now plot the AUROC. Below are two functions which you can use. What you need to add is code to plot the AUROC for all the data and as well for each value of the protected attribute (on one set of axes). (2 points)"
   ]
  },
  {
   "cell_type": "code",
   "execution_count": 7,
   "metadata": {
    "id": "o0I8dyzaqhFJ"
   },
   "outputs": [
    {
     "data": {
      "image/png": "[encoded data removed]",
      "text/plain": [
       "<Figure size 640x480 with 1 Axes>"
      ]
     },
     "metadata": {},
     "output_type": "display_data"
    }
   ],
   "source": [
    "#Code for computing the AUCROC\n",
    "\n",
    "from sklearn.metrics import roc_auc_score, roc_curve, auc\n",
    "import matplotlib.pyplot as plt\n",
    "\n",
    "def getAUC(truth, pred):\n",
    "    fpr, tpr, thresholds = roc_curve(truth, pred)\n",
    "    return auc(fpr, tpr)\n",
    "\n",
    "\n",
    "def plotAUC(truth, pred, lab):\n",
    "    fpr, tpr, thresholds = roc_curve(truth, pred)\n",
    "    roc_auc = auc(fpr, tpr)\n",
    "    c = (np.random.rand(), np.random.rand(), np.random.rand())\n",
    "    plt.plot(fpr, tpr, color=c, label= lab+' (AUC = %0.2f)' % roc_auc)\n",
    "    plt.plot([0, 1], [0, 1], 'k--')\n",
    "    plt.xlim([0.0, 1.0])\n",
    "    plt.ylim([0.0, 1.0])\n",
    "    plt.xlabel('FPR')\n",
    "    plt.ylabel('TPR')\n",
    "    plt.title('ROC')\n",
    "    plt.legend(loc=\"lower right\")\n",
    "\n",
    "#Add code below to subset rows by protected attribute\n",
    "Y_pred = log_reg.predict_proba(X_test)[:, 1]\n",
    "\n",
    "X_test_0 = X_test[X_test['protected_race']==0]\n",
    "Y_test_0 = Y_test[X_test[X_test['protected_race']==0].index]\n",
    "Y_pred_0 = log_reg.predict_proba(X_test_0)[:, 1]\n",
    "\n",
    "X_test_1 = X_test[X_test['protected_race']==1]\n",
    "Y_test_1 = Y_test[X_test[X_test['protected_race']==1].index]\n",
    "Y_pred_1 = log_reg.predict_proba(X_test_1)[:, 1]\n",
    "\n",
    "X_test_2 = X_test[X_test['protected_race']==2]\n",
    "Y_test_2 = Y_test[X_test[X_test['protected_race']==2].index]\n",
    "Y_pred_2 = log_reg.predict_proba(X_test_2)[:, 1]\n",
    "\n",
    "X_test_3 = X_test[X_test['protected_race']==3]\n",
    "Y_test_3 = Y_test[X_test[X_test['protected_race']==3].index]\n",
    "Y_pred_3 = log_reg.predict_proba(X_test_3)[:, 1]\n",
    "\n",
    "X_test_4 = X_test[X_test['protected_race']==4]\n",
    "Y_test_4 = Y_test[X_test[X_test['protected_race']==4].index]\n",
    "Y_pred_4 = log_reg.predict_proba(X_test_4)[:, 1]\n",
    "\n",
    "#Add code below to make the plot\n",
    "plotAUC(Y_test, Y_pred, \"All data\")\n",
    "plotAUC(Y_test_0, Y_pred_0, \"0\")\n",
    "plotAUC(Y_test_1, Y_pred_1, \"1\")\n",
    "plotAUC(Y_test_2, Y_pred_2, \"2\")\n",
    "plotAUC(Y_test_3, Y_pred_3, \"3\")\n",
    "plotAUC(Y_test_4, Y_pred_4, \"4\")"
   ]
  },
  {
   "cell_type": "markdown",
   "metadata": {
    "id": "0AzRqWq0qhFJ"
   },
   "source": [
    "#### Assessing algorithmic fairness (5 points)\n",
    "\n",
    "8\\. Algorithmic Fairness metrics (2 points)\n",
    "\n",
    "Pick a fairness metric to apply to the income prediction task and your selected protected attribute. Explain why you selected this metric."
   ]
  },
  {
   "cell_type": "markdown",
   "metadata": {
    "id": "bV-xH4L-qhFJ"
   },
   "source": [
    "$\\color{blue}{\\text{ Place your answer here.}}$\n",
    "1. Equality of opportunity"
   ]
  },
  {
   "cell_type": "markdown",
   "metadata": {
    "id": "dPo8FVm7qhFJ"
   },
   "source": [
    "9\\. Compute the chosen metric for your protected attribute. Hint: this will require you to first find the threshold wiith the best when predicting on the entire data, and then computing the TPR/FPR or other necessary parameters at that threshold for each value of the protected attribute. (2 points)\n",
    "\n",
    "There are many ways we could locate the threshold with the optimal balance between the false positive rate (FPR) and true positive rate (TPR).\n",
    "\n",
    "As a reminder, the TPR is called the Sensitivity. The inverse of the false-positive rate (1-FPR) is called the Specificity.\n",
    "\n",
    "<center>Sensitivity = $\\frac{TP}{TP + FN}$\n",
    "Specificity = $\\frac{TN}{FP + TN}$</center>\n",
    "\n",
    "where:\n",
    "\n",
    "<center>Sensitivity = TPR and Specificity = 1 – FPR</center>\n",
    "\n",
    "The Geometric Mean or g-mean is a metric for imbalanced classification that, if optimized, will seek a balance between the sensitivity and the specificity.\n",
    "\n",
    "<center>g-mean = $\\sqrt{Sensitivity * Specificity}$ </center>\n",
    "\n"
   ]
  },
  {
   "cell_type": "code",
   "execution_count": 8,
   "metadata": {
    "id": "IFSSrIjvqhFK"
   },
   "outputs": [
    {
     "name": "stdout",
     "output_type": "stream",
     "text": [
      "Equality of opportunity_all = 0.622533418204965\n",
      "Equality of opportunity_0 = 0.6666666666666666\n",
      "Equality of opportunity_1 = 0.9423076923076923\n",
      "Equality of opportunity_2 = 0.5180722891566265\n",
      "Equality of opportunity_3 = 0.5\n",
      "Equality of opportunity_4 = 0.6171107994389902\n"
     ]
    }
   ],
   "source": [
    "#Place code here\n",
    "from sklearn.metrics import confusion_matrix\n",
    "\n",
    "fpr, tpr, thresholds = roc_curve(Y_test, Y_pred)\n",
    "\n",
    "sensitivity = tpr\n",
    "specificity = 1-fpr\n",
    "g_mean = np.sqrt(sensitivity*specificity)\n",
    "index = np.argmax(g_mean)\n",
    "best_threshold = thresholds[index]\n",
    "\n",
    "Y_pred = np.where(Y_pred>best_threshold,1,0)\n",
    "Y_pred_0 = np.where(Y_pred_0>best_threshold,1,0)\n",
    "Y_pred_1 = np.where(Y_pred_1>best_threshold,1,0)\n",
    "Y_pred_2 = np.where(Y_pred_2>best_threshold,1,0)\n",
    "Y_pred_3 = np.where(Y_pred_3>best_threshold,1,0)\n",
    "Y_pred_4 = np.where(Y_pred_4>best_threshold,1,0)\n",
    "\n",
    "\n",
    "cf_all = confusion_matrix(Y_test, Y_pred)\n",
    "cf_0 = confusion_matrix(Y_test_0, Y_pred_0)\n",
    "cf_1 = confusion_matrix(Y_test_1, Y_pred_1)\n",
    "cf_2 = confusion_matrix(Y_test_2, Y_pred_2)\n",
    "cf_3 = confusion_matrix(Y_test_3, Y_pred_3)\n",
    "cf_4 = confusion_matrix(Y_test_4, Y_pred_4)\n",
    "\n",
    "EOO_all = (1.0*cf_all[1,1])/(cf_all[1,1]+cf_all[1,0])\n",
    "EOO_0 = (1.0*cf_0[1,1])/(cf_0[1,1]+cf_0[1,0])\n",
    "EOO_1 = (1.0*cf_1[1,1])/(cf_1[1,1]+cf_1[1,0])\n",
    "EOO_2 = (1.0*cf_2[1,1])/(cf_2[1,1]+cf_2[1,0])\n",
    "EOO_3 = (1.0*cf_3[1,1])/(cf_3[1,1]+cf_3[1,0])\n",
    "EOO_4 = (1.0*cf_4[1,1])/(cf_4[1,1]+cf_4[1,0])\n",
    "\n",
    "print(\"Equality of opportunity_all = \"+str(EOO_all))\n",
    "print(\"Equality of opportunity_0 = \"+str(EOO_0))\n",
    "print(\"Equality of opportunity_1 = \"+str(EOO_1))\n",
    "print(\"Equality of opportunity_2 = \"+str(EOO_2))\n",
    "print(\"Equality of opportunity_3 = \"+str(EOO_3))\n",
    "print(\"Equality of opportunity_4 = \"+str(EOO_4))"
   ]
  },
  {
   "cell_type": "markdown",
   "metadata": {
    "id": "YpHbXceVqhFK"
   },
   "source": [
    "10\\. Is there a disparity? How can we interpret its magnitude? Is such a disparity a bad thing/avoidable? (1 point)"
   ]
  },
  {
   "cell_type": "markdown",
   "metadata": {
    "id": "rY0-cGaIqhFL"
   },
   "source": [
    "$\\color{blue}{\\text{ Place your answer here.}}$"
   ]
  }
 ],
 "metadata": {
  "colab": {
   "provenance": []
  },
  "kernelspec": {
   "display_name": "Python 3 (ipykernel)",
   "language": "python",
   "name": "python3"
  },
  "language_info": {
   "codemirror_mode": {
    "name": "ipython",
    "version": 3
   },
   "file_extension": ".py",
   "mimetype": "text/x-python",
   "name": "python",
   "nbconvert_exporter": "python",
   "pygments_lexer": "ipython3",
   "version": "3.11.4"
  }
 },
 "nbformat": 4,
 "nbformat_minor": 1
}
