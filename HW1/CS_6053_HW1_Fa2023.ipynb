{
 "cells": [
  {
   "cell_type": "markdown",
   "metadata": {
    "id": "UVi0YPMvUjwg"
   },
   "source": [
    "# **Foundations of Data Science Fall 2023 - Homework 1 (32 points)**\n",
    "\n",
    "### Student Name: Tekuri Sai Akhil\n",
    "### Student Net Id: st5050\n",
    "\n",
    "---\n",
    "\n"
   ]
  },
  {
   "cell_type": "markdown",
   "metadata": {
    "id": "ie52W18UUlMB"
   },
   "source": [
    "### **Part 0: Data Exploration and Linear Regression (5 Points)**\n",
    "\n",
    "---\n"
   ]
  },
  {
   "cell_type": "markdown",
   "metadata": {
    "id": "uUBNYxVIjh4X"
   },
   "source": [
    "Background: This problem focuses on an ECG dataset that contains voltage measurements from a number of points on the scalp. A common task is to estimate which parts of the brain caused the measured response, which can help identify which parts of the brain are involved in specific tasks. However, the number of possible locations in the brain is much larger than the number of measurements, which makes this an appropriate task to assess the use of regularization to determine the brain region that is active under stimulus.\n"
   ]
  },
  {
   "cell_type": "code",
   "execution_count": 1,
   "metadata": {
    "id": "gC9WIPo7U3JD"
   },
   "outputs": [],
   "source": [
    "# Importing all important packages\n",
    "\n",
    "import numpy as np\n",
    "import pandas as pd\n",
    "import matplotlib.pyplot as plt\n",
    "\n",
    "from sklearn.linear_model import LinearRegression, Lasso, Ridge, LogisticRegression\n",
    "from sklearn.metrics import r2_score, confusion_matrix, roc_curve, roc_auc_score\n",
    "from sklearn.model_selection import train_test_split, cross_val_score"
   ]
  },
  {
   "cell_type": "code",
   "execution_count": 2,
   "metadata": {
    "colab": {
     "base_uri": "https://localhost:8080/"
    },
    "id": "PkPvRr0a-Sr8",
    "outputId": "6311cb75-32fe-4c7c-83f6-2d6d6286b039"
   },
   "outputs": [
    {
     "name": "stdout",
     "output_type": "stream",
     "text": [
      "File eeg_dat.p is already downloaded\n"
     ]
    }
   ],
   "source": [
    "# Downloading data\n",
    "\n",
    "fn_src ='https://drive.google.com/uc?export=download&id=1RzQpKONOcXSMxH2ZzOI4iVMiTgD6ttSl'\n",
    "fn_dst ='eeg_dat.p'\n",
    "\n",
    "import os\n",
    "from six.moves import urllib\n",
    "\n",
    "if os.path.isfile(fn_dst):\n",
    "    print('File %s is already downloaded' % fn_dst)\n",
    "else:\n",
    "    print('Fetching file %s [53MB].  This may take a minute..' % fn_dst)\n",
    "    urllib.request.urlretrieve(fn_src, fn_dst)\n",
    "    print('File %s downloaded' % fn_dst)"
   ]
  },
  {
   "cell_type": "code",
   "execution_count": 3,
   "metadata": {
    "id": "zu_NFpHx-ZPh"
   },
   "outputs": [],
   "source": [
    "# Loading data\n",
    "\n",
    "import pickle\n",
    "fn = 'eeg_dat.p'\n",
    "with open(fn, 'rb') as fp:\n",
    "    [X,Y] = pickle.load(fp)"
   ]
  },
  {
   "cell_type": "markdown",
   "metadata": {
    "id": "CtBimafqe5GH"
   },
   "source": [
    ">>**1**\\. **(1 Point)** *Display the first 5 rows of X and Y and print the dimensions for both datasets*\n",
    "\n"
   ]
  },
  {
   "cell_type": "code",
   "execution_count": 4,
   "metadata": {
    "id": "umxMgyXsU7Tw"
   },
   "outputs": [
    {
     "name": "stdout",
     "output_type": "stream",
     "text": [
      "dimensions of X = (305, 22494)\n",
      "dimensions of Y = (305, 85)\n",
      "\n",
      "First 5 rows of X:\n",
      "[[ 0.          0.          0.         ...  0.          0.\n",
      "   0.        ]\n",
      " [ 0.          0.          0.         ...  0.          0.\n",
      "   0.        ]\n",
      " [ 0.          0.          0.         ...  0.          0.\n",
      "   0.        ]\n",
      " [-0.00529827  0.00491268  0.00598048 ...  0.00162549 -0.0023215\n",
      "   0.00115952]\n",
      " [-0.01522969  0.00059051 -0.00191475 ...  0.00331738 -0.00214887\n",
      "   0.00160143]]\n",
      "\n",
      "First 5 rows of Y:\n",
      "[[ 0.          0.          0.          0.          0.          0.\n",
      "   0.          0.          0.          0.          0.          0.\n",
      "   0.          0.          0.          0.          0.          0.\n",
      "   0.          0.          0.          0.          0.          0.\n",
      "   0.          0.          0.          0.          0.          0.\n",
      "   0.          0.          0.          0.          0.          0.\n",
      "   0.          0.          0.          0.          0.          0.\n",
      "   0.          0.          0.          0.          0.          0.\n",
      "   0.          0.          0.          0.          0.          0.\n",
      "   0.          0.          0.          0.          0.          0.\n",
      "   0.          0.          0.          0.          0.          0.\n",
      "   0.          0.          0.          0.          0.          0.\n",
      "   0.          0.          0.          0.          0.          0.\n",
      "   0.          0.          0.          0.          0.          0.\n",
      "   0.        ]\n",
      " [ 0.          0.          0.          0.          0.          0.\n",
      "   0.          0.          0.          0.          0.          0.\n",
      "   0.          0.          0.          0.          0.          0.\n",
      "   0.          0.          0.          0.          0.          0.\n",
      "   0.          0.          0.          0.          0.          0.\n",
      "   0.          0.          0.          0.          0.          0.\n",
      "   0.          0.          0.          0.          0.          0.\n",
      "   0.          0.          0.          0.          0.          0.\n",
      "   0.          0.          0.          0.          0.          0.\n",
      "   0.          0.          0.          0.          0.          0.\n",
      "   0.          0.          0.          0.          0.          0.\n",
      "   0.          0.          0.          0.          0.          0.\n",
      "   0.          0.          0.          0.          0.          0.\n",
      "   0.          0.          0.          0.          0.          0.\n",
      "   0.        ]\n",
      " [ 0.          0.          0.          0.          0.          0.\n",
      "   0.          0.          0.          0.          0.          0.\n",
      "   0.          0.          0.          0.          0.          0.\n",
      "   0.          0.          0.          0.          0.          0.\n",
      "   0.          0.          0.          0.          0.          0.\n",
      "   0.          0.          0.          0.          0.          0.\n",
      "   0.          0.          0.          0.          0.          0.\n",
      "   0.          0.          0.          0.          0.          0.\n",
      "   0.          0.          0.          0.          0.          0.\n",
      "   0.          0.          0.          0.          0.          0.\n",
      "   0.          0.          0.          0.          0.          0.\n",
      "   0.          0.          0.          0.          0.          0.\n",
      "   0.          0.          0.          0.          0.          0.\n",
      "   0.          0.          0.          0.          0.          0.\n",
      "   0.        ]\n",
      " [-0.09276205 -0.08985079 -0.07608291 -0.05530946 -0.03231258 -0.01211071\n",
      "   0.00080852  0.00313692 -0.00678247 -0.02869592 -0.06052095 -0.09864336\n",
      "  -0.1384954  -0.17518806 -0.20431671 -0.22255981 -0.22819203 -0.22131916\n",
      "  -0.20387241 -0.17923614 -0.15177045 -0.12609152 -0.1063793  -0.09570701\n",
      "  -0.09557988 -0.10568318 -0.12395217 -0.14689077 -0.17011059 -0.18902799\n",
      "  -0.19959717 -0.19891403 -0.1857485  -0.16069391 -0.12614103 -0.08592358\n",
      "  -0.04474724 -0.00750158  0.02150801  0.0391705   0.04407476  0.03669187\n",
      "   0.01933823 -0.00419942 -0.02922969 -0.05085636 -0.06472243 -0.06767898\n",
      "  -0.05825114 -0.0368678  -0.00578963  0.03120213  0.06941139  0.10389435\n",
      "   0.13022606  0.14516165  0.14714178  0.13655022  0.11566809  0.0883866\n",
      "   0.05964747  0.03476927  0.01866437  0.01515595  0.02640921  0.05260544\n",
      "   0.09186162  0.14047642  0.19336142  0.24469149  0.28863894  0.32010343\n",
      "   0.33535487  0.33248343  0.31159913  0.27481392  0.225944    0.17002921\n",
      "   0.11269917  0.05947506  0.01514124 -0.01681553 -0.03456445 -0.0380913\n",
      "  -0.0291009 ]\n",
      " [ 0.01241803 -0.00569839 -0.02801367 -0.05359459 -0.08104797 -0.10851966\n",
      "  -0.13379319 -0.15448279 -0.16826742 -0.17320027 -0.16799938 -0.15227921\n",
      "  -0.12673569 -0.09313222 -0.05422283 -0.01347576  0.02528186  0.05832127\n",
      "   0.08244709  0.09545931  0.09641075  0.08583552  0.0656907   0.03920295\n",
      "   0.01049631 -0.01589401 -0.03554677 -0.04473862 -0.04091731 -0.0230484\n",
      "   0.00821874  0.05053668  0.10010532  0.15206901  0.2010497   0.24171443\n",
      "   0.26942073  0.28069672  0.2736623   0.24824396  0.20617207  0.15082053\n",
      "   0.08683377  0.01960157 -0.04528859 -0.10268976 -0.14839354 -0.17960091\n",
      "  -0.19515903 -0.1956481  -0.18327567 -0.16156722 -0.13492094 -0.10808104\n",
      "  -0.08557384 -0.07114955 -0.06736727 -0.07527035 -0.0942851  -0.12226838\n",
      "  -0.15576918 -0.19040635 -0.22139751 -0.24410465 -0.25457232 -0.25000458\n",
      "  -0.22908469 -0.19217531 -0.14128675 -0.07991302 -0.01264023  0.05527446\n",
      "   0.11845781  0.1719523   0.21171481  0.23496873  0.24047115  0.22856528\n",
      "   0.20111359  0.16122806  0.11293382  0.06073957  0.00915674 -0.03771494\n",
      "  -0.0765598 ]]\n"
     ]
    }
   ],
   "source": [
    "# Write your code here\n",
    "#printing the dimensions\n",
    "print(\"dimensions of X = \"+ str(X.shape))\n",
    "print(\"dimensions of Y = \"+ str(Y.shape))\n",
    "\n",
    "#printing the first 5 rows of X and Y\n",
    "print(\"\\nFirst 5 rows of X:\")\n",
    "print(X[0:5,:])\n",
    "print(\"\\nFirst 5 rows of Y:\")\n",
    "print(Y[0:5,:])"
   ]
  },
  {
   "cell_type": "markdown",
   "metadata": {
    "id": "hiJpfr8MgBb1"
   },
   "source": [
    "\n",
    "Note that there are three key variables:\n",
    "* `nt`    = number of time steps that we measure data\n",
    "* `nchan` = number of channels (i.e. electrodes) measured in each time step\n",
    "* `ncur`  = number of currents in the brain that we want to estimate.  \n",
    "\n",
    "Each current comes from one brain region (called a *voxel*) in either the `x`, `y` or `z` direction.  So,\n",
    "\n",
    "    nvoxels = ncur / 3\n",
    "    \n",
    "The components of the `X` and `Y` matrices are:\n",
    "*  `Y[i,k]` = electric field measurement on channel `i` at time `k`\n",
    "*  `X[i,j]` = sensitivity of channel `i` to current `j`.\n",
    "\n"
   ]
  },
  {
   "cell_type": "markdown",
   "metadata": {
    "id": "yDZtFIjTfxmW"
   },
   "source": [
    ">>**2**\\. **(1 Point)** Split the data into training and testing. What split do you use, and why?"
   ]
  },
  {
   "cell_type": "markdown",
   "metadata": {
    "id": "WJF7n_tBy4Uv"
   },
   "source": [
    ">> 1) I did a random split of the data into test and train using train_test_split from sklearn\n",
    ">> 2) train_test_split first shuffles the data and then splits the data according to the given test_size\n",
    ">> 3) I did random split to avoid any sampling bias (In this case, the probalibity of an instance to be in the train data is same for all the instances)\n",
    ">> 4) I've split the complete data as 80% train data and 20% test data. Because the best results are obtained by this split"
   ]
  },
  {
   "cell_type": "code",
   "execution_count": 5,
   "metadata": {
    "id": "JOo5tg-7gD_z"
   },
   "outputs": [
    {
     "name": "stdout",
     "output_type": "stream",
     "text": [
      "Shape of X_train = (244, 22494)\n",
      "Shape of Y_train = (244, 85)\n",
      "Shape of X_test = (61, 22494)\n",
      "Shape of Y_test = (61, 85)\n"
     ]
    }
   ],
   "source": [
    "# Write your code here\n",
    "\n",
    "#Splitting the complete data as 80% train and 20% test data, using the randon_state=42\n",
    "[X_train, X_test, Y_train, Y_test] = train_test_split(X, Y, test_size=0.2, random_state=42)\n",
    "\n",
    "#Printing the shapes of train and test data\n",
    "print(\"Shape of X_train = \" + str(X_train.shape))\n",
    "print(\"Shape of Y_train = \" + str(Y_train.shape))\n",
    "print(\"Shape of X_test = \" + str(X_test.shape))\n",
    "print(\"Shape of Y_test = \" + str(Y_test.shape))"
   ]
  },
  {
   "cell_type": "markdown",
   "metadata": {
    "id": "CKEkzFqKzPFJ"
   },
   "source": [
    ">>**3**\\. **(3 Points)** Perform linear regression. As a reminder, the optimization for linear regression using ordinary least squares is written below, the data consists of $n$ observations {$x_i$,$y_i$}. Each observation $i$ includes a scalar response $y_i$ and a column vector $x_i$ of $p$ variables (regressors).\n",
    "\n",
    ">>The evaluation metric used for linear regression is the $R^2$ score. Explain what $R^2$ tells us, and interpret your results based on this.*\n",
    "\n"
   ]
  },
  {
   "cell_type": "markdown",
   "metadata": {
    "id": "LvFX8XmAQVev"
   },
   "source": [
    "\\begin{align}\n",
    "\\text{Ordinary Least Squares}\n",
    "\\end{align}\n",
    "\n",
    "\n",
    "\n",
    " \\begin{align}\n",
    "        \\underset{\\beta}{\\operatorname{arg min}}\n",
    "        \\left[\\sum_{i=1}^n \\left( y_i - β_o - \\sum_{j=1}^p β_jx_{ij}  \\right)^2  \\right]\n",
    "    \\end{align}\n",
    "\n"
   ]
  },
  {
   "cell_type": "code",
   "execution_count": 6,
   "metadata": {
    "id": "FrUITWlpzOfs"
   },
   "outputs": [
    {
     "name": "stdout",
     "output_type": "stream",
     "text": [
      "train R^2 score = 1.0\n",
      "test R^2 score = -6.374686363542263\n"
     ]
    }
   ],
   "source": [
    "# Write your code here\n",
    "\n",
    "#Ordinary least squares training\n",
    "ols_reg = LinearRegression().fit(X_train, Y_train)\n",
    "\n",
    "#Extracting weights\n",
    "W = ols_reg.coef_\n",
    "W0 = ols_reg.intercept_\n",
    "\n",
    "#Calculating R^2 score for train and test\n",
    "train_score = r2_score(Y_train, X_train.dot(W.T) + W0)\n",
    "test_score = r2_score(Y_test, X_test.dot(W.T) + W0)\n",
    "print(\"train R^2 score = \" +str(train_score))\n",
    "print(\"test R^2 score = \" +str(test_score))"
   ]
  },
  {
   "cell_type": "markdown",
   "metadata": {
    "id": "vMtUeI0FzS8B"
   },
   "source": [
    ">> 1) Evaluation metrics R2 is a measure that provides information about the goodness of fit of a model. It shows how well a regression model predicts the outcome of observed data.\n",
    ">> 2) Here we got the R^2 score for train to be 1.0. This means the model does a very good job fitting the train data. In fact the model accurately predicts the train data.\n",
    ">> 3) But we got the R^2 score of test to be -6.37 which is a negetive vale. This means the model does a very poor job on predicting test data.\n",
    ">> 4) This is a case of overfitting. The model is too closely aligned to the train data that it fails to predict the test data. We can use regularization methods to reduce/remove this over fitting."
   ]
  },
  {
   "cell_type": "markdown",
   "metadata": {
    "id": "Nk4QVvQPUlJl"
   },
   "source": [
    "### **Part 1: Ridge Regularization (10 Points)**\n",
    "\n",
    "---\n"
   ]
  },
  {
   "cell_type": "markdown",
   "metadata": {
    "id": "GNXMw5bCndxQ"
   },
   "source": [
    ">>**1**\\. **(1 Point)** *Now we will use ridge regression, a model tuning method that can be used on data that suffers from multicollinearity. Notice the regularization term added to the optimization below, which uses the squared value of $β$. It is also known as L2 regularization. Regularizations are techniques used to reduce the error by fitting a function appropriately on the given training set and avoid overfitting. First, what is the degree of collinearity in the data? Show your work and give rationale for the degree of collinearity.*\n"
   ]
  },
  {
   "cell_type": "markdown",
   "metadata": {
    "id": "DEjwWVrrRKGs"
   },
   "source": [
    "\\begin{align}\n",
    "\\text{Ridge Regression}\n",
    "\\end{align}\n",
    "\n",
    "\n",
    " \\begin{align}\n",
    "        \\underset{\\beta}{\\operatorname{arg min}}\n",
    "        \\left[\\sum_{i=1}^n \\left( y_i - βo - \\sum_{j=1}^p β_jx_{ij}  \\right)^2 + λ\\sum_{j=1}^p|β_j|^2  \\right]\n",
    "    \\end{align}\n"
   ]
  },
  {
   "cell_type": "code",
   "execution_count": 7,
   "metadata": {
    "id": "j2C9lClOz1A1"
   },
   "outputs": [
    {
     "name": "stdout",
     "output_type": "stream",
     "text": [
      "Number of pairs of features with correlation coefficent>=0.8 is 1418684.0\n",
      "Total number of pairs of features is 252956278.0\n"
     ]
    }
   ],
   "source": [
    "# Write your code here\n",
    "\n",
    "#Builing correlation coefficent matrix of X\n",
    "correlation_metrics = np.corrcoef(X.T)\n",
    "shape = correlation_metrics.shape\n",
    "n = shape[0]\n",
    "\n",
    "#Applying thresholding of 0.8 on correlation coefficent \n",
    "count = (np.sum(np.where(correlation_metrics[np.abs(correlation_metrics)>=0.8],1.0,0.0)) - n)/2\n",
    "total = ((n-1)*(n-2))/2\n",
    "\n",
    "print(\"Number of pairs of features with correlation coefficent>=0.8 is \"+str(count))\n",
    "print(\"Total number of pairs of features is \"+str(total))"
   ]
  },
  {
   "cell_type": "markdown",
   "metadata": {
    "id": "UjsFtPFdz8Bm"
   },
   "source": [
    ">> 1) As you can see, amoung 252956278 pairs of features, 1418684 pairs of have correlation coefficient greater than or equal to 0.8. which is approximately 0.5% of pairs of features.\n",
    ">> 2) Still 1418684 pairs is not a small number and their correlation coefficent is greater than or equal to 0.8\n",
    ">> 3) We can say that the features of the data are highly collinear and we can reduce the feature space by feature selection based on collinearity.\n",
    ">> 4) This might be the reason for over-fitting during the Ordinary Least Squares linear regression."
   ]
  },
  {
   "cell_type": "markdown",
   "metadata": {
    "id": "uv3A1LH5zs-c"
   },
   "source": [
    ">>**1b**\\. **(2 Points)** *Now implement ridge regression using sklearn. Start with the default alpha value, and print the $R^2$ score*"
   ]
  },
  {
   "cell_type": "code",
   "execution_count": 8,
   "metadata": {
    "id": "51vepf1Ci1Ou"
   },
   "outputs": [
    {
     "name": "stdout",
     "output_type": "stream",
     "text": [
      "train R^2 score = 0.5829184481040963\n",
      "test R^2 score = 0.2093900999805397\n"
     ]
    }
   ],
   "source": [
    "# Write your code here\n",
    "\n",
    "#Ridge regression training with alpha = 1.0\n",
    "rigid_reg = Ridge().fit(X_train, Y_train)\n",
    "\n",
    "#Extracting weights\n",
    "W = rigid_reg.coef_\n",
    "W0 = ols_reg.intercept_\n",
    "\n",
    "#Calculating R^2 scores for train and test data\n",
    "train_score = r2_score(Y_train, X_train.dot(W.T) + W0)\n",
    "test_score = r2_score(Y_test, X_test.dot(W.T) + W0)\n",
    "print(\"train R^2 score = \" +str(train_score))\n",
    "print(\"test R^2 score = \" +str(test_score))"
   ]
  },
  {
   "cell_type": "markdown",
   "metadata": {
    "id": "SM2On6G0oTvo"
   },
   "source": [
    ">>**2**\\. **(5 Points)** *Now we will look at what happens when varying the parameter. Try 10 different values for alpha and print the alpha value with corresponding $R^2$ score using Cross-Validation for training data. Describe how you pick the range of alpha values to examine.*\n",
    "\n"
   ]
  },
  {
   "cell_type": "markdown",
   "metadata": {
    "id": "QW1IJFuE0jWr"
   },
   "source": [
    ">> 1) I've picked the range of alpha values from 10^-4 to 10^5 with increasing alpha 10 times in each step.\n",
    ">> 2) So, 10 values of alpha are [0.0001, 0.001, 0.01, 0.1, 1, 10, 100, 1000, 10000, 100000]\n",
    ">> 3) Very small alpha values leads to under-regularization and very high alpha values leads to over-regularization.\n",
    ">> 3) I've picked this range of alpha values (i.e from very small to very large alpha value) because I want to to see the transision of R^2 score from under-regularization to over-regularization to determine the best possible value of alpha that optimizes the model."
   ]
  },
  {
   "cell_type": "code",
   "execution_count": 9,
   "metadata": {
    "id": "crILa9Jji124",
    "scrolled": false
   },
   "outputs": [
    {
     "name": "stdout",
     "output_type": "stream",
     "text": [
      "For alpha = 0.0001\n",
      "    train R^2 score using Cross-Validation for training data = -3.9897580259257728\n",
      "For alpha = 0.001\n",
      "    train R^2 score using Cross-Validation for training data = -1.749784383862859\n",
      "For alpha = 0.01\n",
      "    train R^2 score using Cross-Validation for training data = -0.5184198687401002\n",
      "For alpha = 0.1\n",
      "    train R^2 score using Cross-Validation for training data = 0.015638027646995133\n",
      "For alpha = 1\n",
      "    train R^2 score using Cross-Validation for training data = 0.1095294609273321\n",
      "For alpha = 10\n",
      "    train R^2 score using Cross-Validation for training data = 0.018543955098075215\n",
      "For alpha = 100\n",
      "    train R^2 score using Cross-Validation for training data = -0.02906868091021376\n",
      "For alpha = 1000\n",
      "    train R^2 score using Cross-Validation for training data = -0.03755102509753059\n",
      "For alpha = 10000\n",
      "    train R^2 score using Cross-Validation for training data = -0.03848210959697833\n",
      "For alpha = 100000\n",
      "    train R^2 score using Cross-Validation for training data = -0.03857615650283375\n"
     ]
    }
   ],
   "source": [
    "# Write your code here\n",
    "\n",
    "#Running cross validation on train data with 5-fold cross validation on different alpha values \n",
    "for alpha in [0.0001, 0.001, 0.01, 0.1, 1, 10, 100, 1000, 10000, 100000]:\n",
    "    ridge_reg = Ridge(alpha=alpha)\n",
    "    scores = cross_val_score(ridge_reg, X_train, Y_train, scoring='r2')\n",
    "    mean_score = np.mean(scores)\n",
    "    print(\"For alpha = \"+str(alpha))\n",
    "    print(\"    train R^2 score using Cross-Validation for training data = \" +str(mean_score))"
   ]
  },
  {
   "cell_type": "markdown",
   "metadata": {
    "id": "LiNCKowIpao5"
   },
   "source": [
    ">>**3**\\. **(2 Points)** What is the highest $R^2$ you can achieve?"
   ]
  },
  {
   "cell_type": "code",
   "execution_count": 10,
   "metadata": {
    "id": "7LhADmsWkEde"
   },
   "outputs": [
    {
     "name": "stdout",
     "output_type": "stream",
     "text": [
      "1) From above analysis we can see that the max R^2 is achieved between 0.1 and 10\n",
      "2) Now let's use this range to get the highest R^2 on test data \n",
      "\n",
      "For alpha = 0.1\n",
      "     test R^2 score = 0.22444128672540126\n",
      "For alpha = 0.2\n",
      "     test R^2 score = 0.25844787694720167\n",
      "For alpha = 0.3\n",
      "     test R^2 score = 0.26297227700137454\n",
      "For alpha = 0.4\n",
      "     test R^2 score = 0.25874491933126353\n",
      "For alpha = 0.5\n",
      "     test R^2 score = 0.25136176548968253\n",
      "For alpha = 0.6\n",
      "     test R^2 score = 0.24287299954536362\n",
      "For alpha = 0.7\n",
      "     test R^2 score = 0.2341405632603746\n",
      "For alpha = 0.8\n",
      "     test R^2 score = 0.2255503685990379\n",
      "For alpha = 0.9\n",
      "     test R^2 score = 0.21727606912719052\n",
      "For alpha = 1.0\n",
      "     test R^2 score = 0.2093900999805397\n",
      "For alpha = 2\n",
      "     test R^2 score = 0.1505491215348417\n",
      "For alpha = 4\n",
      "     test R^2 score = 0.09178287490438426\n",
      "For alpha = 6\n",
      "     test R^2 score = 0.0629851614350941\n",
      "For alpha = 8\n",
      "     test R^2 score = 0.046137353669891655\n",
      "For alpha = 10\n",
      "     test R^2 score = 0.035216442059353946\n",
      "\n",
      "for alpha = 0.3, I'm getting the highest test R^2 score and that is equal to 0.26297227700137454\n"
     ]
    }
   ],
   "source": [
    "# Write your code here\n",
    "print(\"1) From above analysis we can see that the max R^2 is achieved between 0.1 and 10\")\n",
    "print(\"2) Now let's use this range to get the highest R^2 on test data \\n\")\n",
    "\n",
    "#Getting the R^2 test score on the alpha values which has max R^2 score using cross-valiadation on training data\n",
    "for alpha in [0.1,0.2,0.3,0.4,0.5,0.6,0.7,0.8,0.9,1.0,2,4,6,8,10]:\n",
    "    rigid_reg = Ridge(alpha=alpha).fit(X_train, Y_train)\n",
    "    W = rigid_reg.coef_\n",
    "    W0 = ols_reg.intercept_\n",
    "    test_score = r2_score(Y_test, X_test.dot(W.T) + W0)\n",
    "    print(\"For alpha = \"+str(alpha))\n",
    "    print(\"     test R^2 score = \" +str(test_score))\n",
    "\n",
    "print(\"\\nfor alpha = 0.3, I'm getting the highest test R^2 score and that is equal to 0.26297227700137454\")"
   ]
  },
  {
   "cell_type": "markdown",
   "metadata": {
    "id": "IPgtwSADUlGf"
   },
   "source": [
    "### **Part 2: Lasso Regularization (12 Points)**\n",
    "\n",
    "---\n"
   ]
  },
  {
   "cell_type": "markdown",
   "metadata": {
    "id": "TGFMIM1UqaBV"
   },
   "source": [
    ">>**1**\\. **(3 Points)** *Another method often used to improve performance is Lasso regularization. Lasso regression improves performance by using shrinkage, where data values are shrunk towards a central point, like the mean. Lasso regression performs L1 regularization, which adds a penalty equal to the absolute value of the magnitude of coefficients. This can result in sparse models with few coefficients (many coefficients can -> 0 and are eliminated from the model). Implement this using sklearn with default parameter values and print the $R^2$ score*"
   ]
  },
  {
   "cell_type": "markdown",
   "metadata": {
    "id": "5KLG8kwzSovn"
   },
   "source": [
    " \\begin{align}\n",
    "\\text{LASSO Regression}\n",
    "\\end{align}\n",
    "\n",
    "\n",
    "\n",
    " \\begin{align}\n",
    "        \\underset{\\beta}{\\operatorname{arg min}}\n",
    "        \\left[\\sum_{i=1}^n \\left( y_i - βo - \\sum_{j=1}^p β_jx_ij  \\right)^2 + λ\\sum_{j=1}^p|β_j|  \\right]\n",
    "    \\end{align}"
   ]
  },
  {
   "cell_type": "code",
   "execution_count": 11,
   "metadata": {
    "id": "74ofK8tHh92y"
   },
   "outputs": [
    {
     "name": "stdout",
     "output_type": "stream",
     "text": [
      "train R^2 score = -7.836868409118752e-18\n",
      "test R^2 score = -0.011031130254368068\n"
     ]
    }
   ],
   "source": [
    "# Write your code here\n",
    "\n",
    "#Lasso regression training with alpha = 1.0\n",
    "lasso_reg = Lasso().fit(X_train, Y_train)\n",
    "\n",
    "#Extracting weights\n",
    "W = lasso_reg.coef_\n",
    "W0 = lasso_reg.intercept_\n",
    "\n",
    "#Calculating R^2 score on train and test data\n",
    "train_score = r2_score(Y_train, X_train.dot(W.T) + W0)\n",
    "test_score = r2_score(Y_test, X_test.dot(W.T) + W0)\n",
    "print(\"train R^2 score = \" +str(train_score))\n",
    "print(\"test R^2 score = \" +str(test_score))"
   ]
  },
  {
   "cell_type": "markdown",
   "metadata": {
    "id": "8rQQ1FbAqfZk"
   },
   "source": [
    ">>**2**\\. **(5 Points)** *Try 10 different values for the regularization parameter Alpha and print the alpha value with corresponding $R^2$ score using cross-validation. Again, give your reasoning for the choices of alpha. If you choose to tune any other hyperparameters of the model then justify your reason for it*\n"
   ]
  },
  {
   "cell_type": "markdown",
   "metadata": {
    "id": "pQJAGHZY4EG2"
   },
   "source": [
    ">> 1) I've picked the range of alpha values from 10^-5 to 1.\n",
    ">> 2) So, 10 values of alpha are [0.00001, 0.00005, 0.0001, 0.0005, 0.001, 0.005, 0.01, 0.05, 0.1, 1]\n",
    ">> 3) Very small alpha values leads to under-regularization and very high alpha values leads to over-regularization.\n",
    ">> 4) I've picked this range of alpha values (i.e from very small to very large alpha value) because I want to to see the transision of R^2 score from under-regularization to over-regularization to determine the best possible value of alpha that optimizes the model.\n",
    ">> 5) I've also set the tol (The tolerance for the optimization) value to 0.01. \n",
    ">> 6) Because by using the default value of tol(=0.0001) the model is taking very high number of iteration and very long time to converge. Since we are doing the cross-validation the results of the experiment do not vary much if we use slightly higher tol(=0.01). So i've used a slightly higher tolerance(=0.01). "
   ]
  },
  {
   "cell_type": "code",
   "execution_count": 12,
   "metadata": {
    "id": "bOD9ReOLit8j"
   },
   "outputs": [
    {
     "name": "stdout",
     "output_type": "stream",
     "text": [
      "For alpha = 1e-05\n",
      "    train R^2 score using Cross-Validation for training data = -0.6874988219381628\n",
      "For alpha = 5e-05\n",
      "    train R^2 score using Cross-Validation for training data = 0.06308092908704029\n",
      "For alpha = 0.0001\n",
      "    train R^2 score using Cross-Validation for training data = 0.19524984288057362\n",
      "For alpha = 0.0005\n",
      "    train R^2 score using Cross-Validation for training data = 0.23078291196889117\n",
      "For alpha = 0.001\n",
      "    train R^2 score using Cross-Validation for training data = 0.12419850698495918\n",
      "For alpha = 0.005\n",
      "    train R^2 score using Cross-Validation for training data = -0.03858661683300629\n",
      "For alpha = 0.01\n",
      "    train R^2 score using Cross-Validation for training data = -0.03858661683300629\n",
      "For alpha = 0.05\n",
      "    train R^2 score using Cross-Validation for training data = -0.03858661683300629\n",
      "For alpha = 0.1\n",
      "    train R^2 score using Cross-Validation for training data = -0.03858661683300629\n",
      "For alpha = 1\n",
      "    train R^2 score using Cross-Validation for training data = -0.03858661683300629\n"
     ]
    }
   ],
   "source": [
    "# Write your code here\n",
    "alphas = [0.00001, 0.00005, 0.0001, 0.0005, 0.001, 0.005, 0.01, 0.05, 0.1, 1]\n",
    "\n",
    "#Running cross validation on train data with 5-fold cross validation on different alpha values with tol=0.01\n",
    "for alpha in alphas:\n",
    "    lasso_reg = Lasso(alpha=alpha, tol = 0.01)\n",
    "    scores = cross_val_score(lasso_reg, X_train, Y_train, scoring='r2')\n",
    "    mean_score = np.mean(scores)\n",
    "    print(\"For alpha = \"+str(alpha))\n",
    "    print(\"    train R^2 score using Cross-Validation for training data = \" +str(mean_score))"
   ]
  },
  {
   "cell_type": "markdown",
   "metadata": {
    "id": "Fq0XbNHguSbR"
   },
   "source": [
    ">>**3**\\. **(2 Point)** *Plot a graph for different Alpha values and corresponding R^2 score. Explain the shape of the curve.*"
   ]
  },
  {
   "cell_type": "code",
   "execution_count": 13,
   "metadata": {
    "id": "3wiZINHQk8-h"
   },
   "outputs": [
    {
     "data": {
      "image/png": "[encoded data removed]",
      "text/plain": [
       "<Figure size 640x480 with 1 Axes>"
      ]
     },
     "metadata": {},
     "output_type": "display_data"
    }
   ],
   "source": [
    "# Write your ocde here\n",
    "alphas = ['0.00001', '0.00005', '0.0001', '0.0005', '0.001', '0.005', '0.01', '0.05', '0.1', '1']\n",
    "lasso_scores = []\n",
    "\n",
    "#Getting the R^2 test score on different alpha values\n",
    "for alpha in  [0.00001, 0.00005, 0.0001, 0.0005, 0.001, 0.005, 0.01, 0.05, 0.1, 1]:\n",
    "    lasso_reg = Lasso(alpha=alpha, tol = 0.01).fit(X_train, Y_train)\n",
    "    W = lasso_reg.coef_\n",
    "    W0 = lasso_reg.intercept_\n",
    "    test_score = r2_score(Y_test, X_test.dot(W.T) + W0)\n",
    "    lasso_scores.append(test_score)\n",
    "                          \n",
    "plt.plot(alphas, lasso_scores, marker='X')\n",
    "plt.title(\"alpha v/s R^2 score\")\n",
    "plt.xlabel('alpha')\n",
    "plt.ylabel('R^2 score')\n",
    "plt.show()"
   ]
  },
  {
   "cell_type": "markdown",
   "metadata": {
    "id": "4s8NtbFd4WVg"
   },
   "source": [
    ">> 1) When the value of alpha(= 0.00001) is very low the value of R^2 is negative. This is because of under-regularization. The loss function the log loss term(RSS) dominates the regularization term and the model overfit the traing data resulting in low value of R^2.\n",
    ">> 2) as alpha increases the value of R^2 increases. Here we see the effect of regularization, balance between RSS and regularization term.\n",
    ">> 3) If the alpha value still increases the R^2 value decreases and eventually it becomes negetive again. This is because of over-regularization. In the loss function the regularization term dominates the log loss term(RSS) and the model fails to learn the underlying function resulting in low value of R^2."
   ]
  },
  {
   "cell_type": "markdown",
   "metadata": {
    "id": "xdkEoOGbuRNb"
   },
   "source": [
    ">>**4**\\. **(2 Point)** *Which of the following two methods of Regularization worked better and why?*\n"
   ]
  },
  {
   "cell_type": "markdown",
   "metadata": {
    "id": "867cDX3areuC"
   },
   "source": [
    ">> 1) L1 regularization seems to be working better than L2 regularization in this case.\n",
    ">> 2) Because the highest R^2 score for Lasso regression(L1 regularizarion) is more them 0.35(from the graph) and highest R^2 score for Ridge regression(L2 regularizationO is 0.26 which is less than that of lasso.\n",
    ">> 3) This can be explained from the collinearity of the feature. Since we found that many pairs of features are collinear in the beginning, the model which gives sparse weights will give high accuracy. So, L1 regularization (Lasso regression) which gives sparse outputs tries to make the weights of one of the feature in these pair as zero and gives us best results in this case(high collinear) when compared to L2 regularization (Ridge regression)."
   ]
  },
  {
   "cell_type": "markdown",
   "metadata": {
    "id": "VhOIkUtKUpDk"
   },
   "source": [
    "### **Part 3: Logistic Regression (5 Points)**\n",
    "\n",
    "---\n"
   ]
  },
  {
   "cell_type": "markdown",
   "metadata": {
    "id": "G8i6VvqmpUN4"
   },
   "source": [
    "**1. (1 point)** Now let's consider logistic regression. What is the difference betweeen a linear and logistic regression problem? Explain. (You may take the example of the dataset and task used in this assignment to explain how it would look different for a logistic regression problem)"
   ]
  },
  {
   "cell_type": "markdown",
   "metadata": {
    "id": "vvwrLflUpXgQ"
   },
   "source": [
    ">> 1) In linear regression the target variable Y is continuous and In logistic regression the target variable Y is binary.\n",
    ">> 2) Linear Regression is used to for regression tasks and logistic regression is generally used for classifications tasks.\n",
    ">> 3) In this data set Y has a shape of (305, 85). Each target varariable is a 85x1 vector and is continuous\n",
    ">> 4) We can conver this linear regression problem to a logistic regression if we classify Y as follows. if sum of all 85 values of the target variable is >=0 we classify them as class 1. if sum of all 85 values of the target variable is <0 we classify them as class 0.\n",
    ">> 7) Now we can use this transformed data to perform logistic regression\n",
    ">> 8) This transformation makes sense because each target variable is a 85x1 vector, which is the measurement over time periodically. So taking the sum of all 85 measurement >=0 as class 1 and sum of all 85 measurement <0 as class 0 is justified."
   ]
  },
  {
   "cell_type": "markdown",
   "metadata": {
    "id": "Fl7oTpmzpepi"
   },
   "source": [
    "**2. (1 point )** Following your answer in the previous question, convert the dataset such that for the same outcome prediction task, a logistic regression is suitable."
   ]
  },
  {
   "cell_type": "code",
   "execution_count": 14,
   "metadata": {
    "id": "Qa-oc14pUevH"
   },
   "outputs": [],
   "source": [
    "# place your code here\n",
    "\n",
    "#X data is not modified\n",
    "X_log = X\n",
    "\n",
    "# Y data is modifies as discussed above\n",
    "Y_log = np.sum(Y,axis = 1)\n",
    "Y_log = np.where(Y_log>=0.0,1.0,0.0)"
   ]
  },
  {
   "cell_type": "markdown",
   "metadata": {
    "id": "rK_yMcwjpk8h"
   },
   "source": [
    "**3. (1 point)** Split this new dataset into training and testing with a 2:1 split. Implement logistic regression."
   ]
  },
  {
   "cell_type": "code",
   "execution_count": 15,
   "metadata": {
    "id": "-sAn66mYpn6S"
   },
   "outputs": [
    {
     "name": "stdout",
     "output_type": "stream",
     "text": [
      "Train accuracy = 0.7881773399014779\n"
     ]
    }
   ],
   "source": [
    "# Place your code here\n",
    "\n",
    "#Split the complete data into training and testing with a 2:1 split\n",
    "[X_log_train, X_log_test, Y_log_train, Y_log_test] = train_test_split(X_log, Y_log, test_size=0.333, random_state=42)\n",
    "\n",
    "#Logistic regression training\n",
    "log_reg = LogisticRegression().fit(X_log_train, Y_log_train)\n",
    "\n",
    "#Calculating train score\n",
    "train_score = log_reg.score(X_log_train,Y_log_train)\n",
    "print(\"Train accuracy = \"+ str(train_score))"
   ]
  },
  {
   "cell_type": "markdown",
   "metadata": {
    "id": "sjlQWqtkpq5b"
   },
   "source": [
    "**4. (2 point)** Report the performance of the model on the test data using accuracy. Also plot the confusion matrix and ROC-AUC curve. What can you infer from this confusion matrix? Also can you compare the logistic and linear regressions?"
   ]
  },
  {
   "cell_type": "code",
   "execution_count": 18,
   "metadata": {
    "id": "K-qivTOXpu4a"
   },
   "outputs": [
    {
     "name": "stdout",
     "output_type": "stream",
     "text": [
      "Test accuracy = 0.5784313725490197\n",
      "Confusion matrix  :\n",
      "[[22 26]\n",
      " [17 37]]\n"
     ]
    },
    {
     "data": {
      "image/png": "[encoded data removed]",
      "text/plain": [
       "<Figure size 500x500 with 1 Axes>"
      ]
     },
     "metadata": {},
     "output_type": "display_data"
    },
    {
     "name": "stdout",
     "output_type": "stream",
     "text": [
      "Area under curve of ROC = 0.5717592592592593\n"
     ]
    },
    {
     "data": {
      "image/png": "[encoded data removed]",
      "text/plain": [
       "<Figure size 500x500 with 1 Axes>"
      ]
     },
     "metadata": {},
     "output_type": "display_data"
    }
   ],
   "source": [
    "# Place your code here\n",
    "\n",
    "#Calculating train score\n",
    "test_score = log_reg.score(X_log_test,Y_log_test)\n",
    "print(\"Test accuracy = \"+ str(test_score))\n",
    "\n",
    "#Calculating confusion metrics\n",
    "confusion_metrics = confusion_matrix(Y_log_test, log_reg.predict(X_log_test))\n",
    "print(\"Confusion matrix  :\\n\" + str(confusion_metrics))\n",
    "\n",
    "# Plot the confusion matrix\n",
    "plt.figure(figsize=(5, 5))\n",
    "plt.imshow(confusion_metrics, cmap='Reds')\n",
    "plt.xticks(range(2), ['0 - pred', '1 - pred'])\n",
    "plt.yticks(range(2), ['0 - true', '1 - true'])\n",
    "plt.title('Confusion Matrix')\n",
    "plt.show()\n",
    "\n",
    "#Calculate the AUC ROC curve\n",
    "auc_roc = roc_auc_score(Y_log_test, log_reg.predict(X_log_test))\n",
    "print(\"Area under curve of ROC = \" + str(auc_roc))\n",
    "\n",
    "# Plot the ROC curve\n",
    "plt.figure(figsize=(5, 5))\n",
    "plt.plot(roc_curve(Y_log_test, log_reg.predict(X_log_test))[0], roc_curve(Y_log_test, log_reg.predict(X_log_test))[1], label='ROC Curve')\n",
    "plt.title('ROC Curve')\n",
    "plt.xlabel('False Positive Rate')\n",
    "plt.ylabel('True Positive Rate')\n",
    "plt.legend()\n",
    "plt.show()"
   ]
  },
  {
   "cell_type": "markdown",
   "metadata": {
    "id": "K2faqHxyrolD"
   },
   "source": [
    ">> 1) TP = 37, TN = 22, FP = 26, FN = 17\n",
    ">> 2) Accuracy = TP+TN/ TP+TN+FP+FN = 59/102 = 0.57\n",
    ">> 3) Precision = TP/TP+FP = 37/63 = 0.58\n",
    ">> 4) Recall = TP/TP+FN = 37/54 = 0.68\n",
    ">> 5) F1-score = 2*Precision*Recall/(Precision+Recall) = 0.78/1.26 = 0.61\n",
    ">> 6) F1-score is used to evaluate the overall performance of a classification model. We have the F1 score of this model as 0.61. Which is not very good model.\n",
    "\n",
    ">> 1) It is not possible to compare logistic and linear regressions because the R2 score calculated in linear regression is very different from the F1-score we calculated in logistic regression. So it is not feasible to comapare logistic and linear regressions \n"
   ]
  },
  {
   "cell_type": "code",
   "execution_count": 19,
   "metadata": {},
   "outputs": [],
   "source": [
    "##End of HW1"
   ]
  }
 ],
 "metadata": {
  "colab": {
   "provenance": []
  },
  "kernelspec": {
   "display_name": "Python 3 (ipykernel)",
   "language": "python",
   "name": "python3"
  },
  "language_info": {
   "codemirror_mode": {
    "name": "ipython",
    "version": 3
   },
   "file_extension": ".py",
   "mimetype": "text/x-python",
   "name": "python",
   "nbconvert_exporter": "python",
   "pygments_lexer": "ipython3",
   "version": "3.11.4"
  }
 },
 "nbformat": 4,
 "nbformat_minor": 1
}
